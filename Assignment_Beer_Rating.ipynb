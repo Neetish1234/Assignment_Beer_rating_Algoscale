{
 "cells": [
  {
   "cell_type": "code",
   "execution_count": 63,
   "metadata": {},
   "outputs": [
    {
     "data": {
      "text/html": [
       "        <script type=\"text/javascript\">\n",
       "        window.PlotlyConfig = {MathJaxConfig: 'local'};\n",
       "        if (window.MathJax) {MathJax.Hub.Config({SVG: {font: \"STIX-Web\"}});}\n",
       "        if (typeof require !== 'undefined') {\n",
       "        require.undef(\"plotly\");\n",
       "        requirejs.config({\n",
       "            paths: {\n",
       "                'plotly': ['https://cdn.plot.ly/plotly-latest.min']\n",
       "            }\n",
       "        });\n",
       "        require(['plotly'], function(Plotly) {\n",
       "            window._Plotly = Plotly;\n",
       "        });\n",
       "        }\n",
       "        </script>\n",
       "        "
      ]
     },
     "metadata": {},
     "output_type": "display_data"
    },
    {
     "data": {
      "text/html": [
       "        <script type=\"text/javascript\">\n",
       "        window.PlotlyConfig = {MathJaxConfig: 'local'};\n",
       "        if (window.MathJax) {MathJax.Hub.Config({SVG: {font: \"STIX-Web\"}});}\n",
       "        if (typeof require !== 'undefined') {\n",
       "        require.undef(\"plotly\");\n",
       "        requirejs.config({\n",
       "            paths: {\n",
       "                'plotly': ['https://cdn.plot.ly/plotly-latest.min']\n",
       "            }\n",
       "        });\n",
       "        require(['plotly'], function(Plotly) {\n",
       "            window._Plotly = Plotly;\n",
       "        });\n",
       "        }\n",
       "        </script>\n",
       "        "
      ]
     },
     "metadata": {},
     "output_type": "display_data"
    }
   ],
   "source": [
    "# Data analysis libraries\n",
    "import pandas as pd\n",
    "import numpy as np\n",
    "import os\n",
    "\n",
    "import warnings\n",
    "warnings.filterwarnings(\"ignore\")\n",
    "from IPython.display import display\n",
    "pd.options.display.max_columns = None\n",
    "\n",
    "# Plotting libraries\n",
    "import matplotlib.pyplot as plt\n",
    "import seaborn as sns\n",
    "sns.set_style(\"whitegrid\")\n",
    "sns.set_palette(\"Set1\")\n",
    "\n",
    "from plotly.offline import download_plotlyjs, init_notebook_mode, plot, iplot\n",
    "import plotly as py\n",
    "import plotly.graph_objs as go\n",
    "import plotly.tools as tls\n",
    "import plotly.figure_factory as ff\n",
    "\n",
    "# Using plotly + cufflinks in offline mode\n",
    "import cufflinks\n",
    "cufflinks.go_offline(connected=True)\n",
    "\n",
    "# Initiate plotly\n",
    "init_notebook_mode(connected=True) #do not miss this line"
   ]
  },
  {
   "cell_type": "code",
   "execution_count": 64,
   "metadata": {},
   "outputs": [],
   "source": [
    "#Set working directory\n",
    "os.chdir(\"C:/Users/singhsahab/Desktop/Assignment_Algoscale\")"
   ]
  },
  {
   "cell_type": "code",
   "execution_count": 65,
   "metadata": {},
   "outputs": [
    {
     "data": {
      "text/plain": [
       "'C:\\\\Users\\\\singhsahab\\\\Desktop\\\\Assignment_Algoscale'"
      ]
     },
     "execution_count": 65,
     "metadata": {},
     "output_type": "execute_result"
    }
   ],
   "source": [
    "os.getcwd()"
   ]
  },
  {
   "cell_type": "code",
   "execution_count": 66,
   "metadata": {},
   "outputs": [],
   "source": [
    "#Load Data\n",
    "reviews_raw = pd.read_csv(\"train.csv\")"
   ]
  },
  {
   "cell_type": "code",
   "execution_count": 67,
   "metadata": {},
   "outputs": [],
   "source": [
    "# Best Practice: Make a copy of the raw data to work on\n",
    "reviews = reviews_raw.copy()"
   ]
  },
  {
   "cell_type": "code",
   "execution_count": 12,
   "metadata": {},
   "outputs": [
    {
     "data": {
      "text/html": [
       "<div>\n",
       "<style scoped>\n",
       "    .dataframe tbody tr th:only-of-type {\n",
       "        vertical-align: middle;\n",
       "    }\n",
       "\n",
       "    .dataframe tbody tr th {\n",
       "        vertical-align: top;\n",
       "    }\n",
       "\n",
       "    .dataframe thead th {\n",
       "        text-align: right;\n",
       "    }\n",
       "</style>\n",
       "<table border=\"1\" class=\"dataframe\">\n",
       "  <thead>\n",
       "    <tr style=\"text-align: right;\">\n",
       "      <th></th>\n",
       "      <th>index</th>\n",
       "      <th>beer/ABV</th>\n",
       "      <th>beer/beerId</th>\n",
       "      <th>beer/brewerId</th>\n",
       "      <th>beer/name</th>\n",
       "      <th>beer/style</th>\n",
       "      <th>review/appearance</th>\n",
       "      <th>review/aroma</th>\n",
       "      <th>review/overall</th>\n",
       "      <th>review/palate</th>\n",
       "      <th>review/taste</th>\n",
       "      <th>review/text</th>\n",
       "      <th>review/timeStruct</th>\n",
       "      <th>review/timeUnix</th>\n",
       "      <th>user/ageInSeconds</th>\n",
       "      <th>user/birthdayRaw</th>\n",
       "      <th>user/birthdayUnix</th>\n",
       "      <th>user/gender</th>\n",
       "      <th>user/profileName</th>\n",
       "    </tr>\n",
       "  </thead>\n",
       "  <tbody>\n",
       "    <tr>\n",
       "      <td>0</td>\n",
       "      <td>40163</td>\n",
       "      <td>5.0</td>\n",
       "      <td>46634</td>\n",
       "      <td>14338</td>\n",
       "      <td>Chiostro</td>\n",
       "      <td>Herbed / Spiced Beer</td>\n",
       "      <td>4.0</td>\n",
       "      <td>4.0</td>\n",
       "      <td>4.0</td>\n",
       "      <td>4.0</td>\n",
       "      <td>4.0</td>\n",
       "      <td>Pours a clouded gold with a thin white head. N...</td>\n",
       "      <td>{'min': 38, 'hour': 3, 'mday': 16, 'sec': 10, ...</td>\n",
       "      <td>1229398690</td>\n",
       "      <td>NaN</td>\n",
       "      <td>NaN</td>\n",
       "      <td>NaN</td>\n",
       "      <td>NaN</td>\n",
       "      <td>RblWthACoz</td>\n",
       "    </tr>\n",
       "    <tr>\n",
       "      <td>1</td>\n",
       "      <td>8135</td>\n",
       "      <td>11.0</td>\n",
       "      <td>3003</td>\n",
       "      <td>395</td>\n",
       "      <td>Bearded Pat's Barleywine</td>\n",
       "      <td>American Barleywine</td>\n",
       "      <td>4.0</td>\n",
       "      <td>3.5</td>\n",
       "      <td>3.5</td>\n",
       "      <td>3.5</td>\n",
       "      <td>3.0</td>\n",
       "      <td>12oz bottle into 8oz snifter.\\t\\tDeep ruby red...</td>\n",
       "      <td>{'min': 38, 'hour': 23, 'mday': 8, 'sec': 58, ...</td>\n",
       "      <td>1218238738</td>\n",
       "      <td>NaN</td>\n",
       "      <td>NaN</td>\n",
       "      <td>NaN</td>\n",
       "      <td>NaN</td>\n",
       "      <td>BeerSox</td>\n",
       "    </tr>\n",
       "    <tr>\n",
       "      <td>2</td>\n",
       "      <td>10529</td>\n",
       "      <td>4.7</td>\n",
       "      <td>961</td>\n",
       "      <td>365</td>\n",
       "      <td>Naughty Nellie's Ale</td>\n",
       "      <td>American Pale Ale (APA)</td>\n",
       "      <td>3.5</td>\n",
       "      <td>4.0</td>\n",
       "      <td>3.5</td>\n",
       "      <td>3.5</td>\n",
       "      <td>3.5</td>\n",
       "      <td>First enjoyed at the brewpub about 2 years ago...</td>\n",
       "      <td>{'min': 7, 'hour': 18, 'mday': 26, 'sec': 2, '...</td>\n",
       "      <td>1101492422</td>\n",
       "      <td>NaN</td>\n",
       "      <td>NaN</td>\n",
       "      <td>NaN</td>\n",
       "      <td>Male</td>\n",
       "      <td>mschofield</td>\n",
       "    </tr>\n",
       "    <tr>\n",
       "      <td>3</td>\n",
       "      <td>44610</td>\n",
       "      <td>4.4</td>\n",
       "      <td>429</td>\n",
       "      <td>1</td>\n",
       "      <td>Pilsner Urquell</td>\n",
       "      <td>Czech Pilsener</td>\n",
       "      <td>3.0</td>\n",
       "      <td>3.0</td>\n",
       "      <td>2.5</td>\n",
       "      <td>3.0</td>\n",
       "      <td>3.0</td>\n",
       "      <td>First thing I noticed after pouring from green...</td>\n",
       "      <td>{'min': 7, 'hour': 1, 'mday': 20, 'sec': 5, 'y...</td>\n",
       "      <td>1308532025</td>\n",
       "      <td>1.209827e+09</td>\n",
       "      <td>Aug 10, 1976</td>\n",
       "      <td>208508400.0</td>\n",
       "      <td>Male</td>\n",
       "      <td>molegar76</td>\n",
       "    </tr>\n",
       "    <tr>\n",
       "      <td>4</td>\n",
       "      <td>37062</td>\n",
       "      <td>4.4</td>\n",
       "      <td>4904</td>\n",
       "      <td>1417</td>\n",
       "      <td>Black Sheep Ale (Special)</td>\n",
       "      <td>English Pale Ale</td>\n",
       "      <td>4.0</td>\n",
       "      <td>3.0</td>\n",
       "      <td>3.0</td>\n",
       "      <td>3.5</td>\n",
       "      <td>2.5</td>\n",
       "      <td>A: pours an amber with a one finger head but o...</td>\n",
       "      <td>{'min': 51, 'hour': 6, 'mday': 12, 'sec': 48, ...</td>\n",
       "      <td>1299912708</td>\n",
       "      <td>NaN</td>\n",
       "      <td>NaN</td>\n",
       "      <td>NaN</td>\n",
       "      <td>NaN</td>\n",
       "      <td>Brewbro000</td>\n",
       "    </tr>\n",
       "  </tbody>\n",
       "</table>\n",
       "</div>"
      ],
      "text/plain": [
       "   index  beer/ABV  beer/beerId  beer/brewerId                  beer/name  \\\n",
       "0  40163       5.0        46634          14338                   Chiostro   \n",
       "1   8135      11.0         3003            395   Bearded Pat's Barleywine   \n",
       "2  10529       4.7          961            365       Naughty Nellie's Ale   \n",
       "3  44610       4.4          429              1            Pilsner Urquell   \n",
       "4  37062       4.4         4904           1417  Black Sheep Ale (Special)   \n",
       "\n",
       "                beer/style  review/appearance  review/aroma  review/overall  \\\n",
       "0     Herbed / Spiced Beer                4.0           4.0             4.0   \n",
       "1      American Barleywine                4.0           3.5             3.5   \n",
       "2  American Pale Ale (APA)                3.5           4.0             3.5   \n",
       "3           Czech Pilsener                3.0           3.0             2.5   \n",
       "4         English Pale Ale                4.0           3.0             3.0   \n",
       "\n",
       "   review/palate  review/taste  \\\n",
       "0            4.0           4.0   \n",
       "1            3.5           3.0   \n",
       "2            3.5           3.5   \n",
       "3            3.0           3.0   \n",
       "4            3.5           2.5   \n",
       "\n",
       "                                         review/text  \\\n",
       "0  Pours a clouded gold with a thin white head. N...   \n",
       "1  12oz bottle into 8oz snifter.\\t\\tDeep ruby red...   \n",
       "2  First enjoyed at the brewpub about 2 years ago...   \n",
       "3  First thing I noticed after pouring from green...   \n",
       "4  A: pours an amber with a one finger head but o...   \n",
       "\n",
       "                                   review/timeStruct  review/timeUnix  \\\n",
       "0  {'min': 38, 'hour': 3, 'mday': 16, 'sec': 10, ...       1229398690   \n",
       "1  {'min': 38, 'hour': 23, 'mday': 8, 'sec': 58, ...       1218238738   \n",
       "2  {'min': 7, 'hour': 18, 'mday': 26, 'sec': 2, '...       1101492422   \n",
       "3  {'min': 7, 'hour': 1, 'mday': 20, 'sec': 5, 'y...       1308532025   \n",
       "4  {'min': 51, 'hour': 6, 'mday': 12, 'sec': 48, ...       1299912708   \n",
       "\n",
       "   user/ageInSeconds user/birthdayRaw  user/birthdayUnix user/gender  \\\n",
       "0                NaN              NaN                NaN         NaN   \n",
       "1                NaN              NaN                NaN         NaN   \n",
       "2                NaN              NaN                NaN        Male   \n",
       "3       1.209827e+09     Aug 10, 1976        208508400.0        Male   \n",
       "4                NaN              NaN                NaN         NaN   \n",
       "\n",
       "  user/profileName  \n",
       "0       RblWthACoz  \n",
       "1          BeerSox  \n",
       "2       mschofield  \n",
       "3        molegar76  \n",
       "4       Brewbro000  "
      ]
     },
     "execution_count": 12,
     "metadata": {},
     "output_type": "execute_result"
    }
   ],
   "source": [
    "reviews.head()"
   ]
  },
  {
   "cell_type": "markdown",
   "metadata": {},
   "source": [
    "# Exploratory Data  Analysis"
   ]
  },
  {
   "cell_type": "code",
   "execution_count": 68,
   "metadata": {},
   "outputs": [
    {
     "name": "stdout",
     "output_type": "stream",
     "text": [
      "<class 'pandas.core.frame.DataFrame'>\n",
      "RangeIndex: 37500 entries, 0 to 37499\n",
      "Data columns (total 19 columns):\n",
      "index                37500 non-null int64\n",
      "beer/ABV             37500 non-null float64\n",
      "beer/beerId          37500 non-null int64\n",
      "beer/brewerId        37500 non-null int64\n",
      "beer/name            37500 non-null object\n",
      "beer/style           37500 non-null object\n",
      "review/appearance    37500 non-null float64\n",
      "review/aroma         37500 non-null float64\n",
      "review/overall       37500 non-null float64\n",
      "review/palate        37500 non-null float64\n",
      "review/taste         37500 non-null float64\n",
      "review/text          37490 non-null object\n",
      "review/timeStruct    37500 non-null object\n",
      "review/timeUnix      37500 non-null int64\n",
      "user/ageInSeconds    7856 non-null float64\n",
      "user/birthdayRaw     7856 non-null object\n",
      "user/birthdayUnix    7856 non-null float64\n",
      "user/gender          15314 non-null object\n",
      "user/profileName     37495 non-null object\n",
      "dtypes: float64(8), int64(4), object(7)\n",
      "memory usage: 5.4+ MB\n"
     ]
    }
   ],
   "source": [
    "## Examine structure\n",
    "reviews.info()"
   ]
  },
  {
   "cell_type": "code",
   "execution_count": 69,
   "metadata": {},
   "outputs": [],
   "source": [
    "# Convert 'object' to 'category' \n",
    "reviews[reviews.select_dtypes(['object']).columns] = reviews.select_dtypes(['object']).\\\n",
    "                                                         apply(lambda x: x.astype('category'))"
   ]
  },
  {
   "cell_type": "code",
   "execution_count": 17,
   "metadata": {},
   "outputs": [
    {
     "name": "stdout",
     "output_type": "stream",
     "text": [
      "<class 'pandas.core.frame.DataFrame'>\n",
      "RangeIndex: 37500 entries, 0 to 37499\n",
      "Data columns (total 19 columns):\n",
      "index                37500 non-null int64\n",
      "beer/ABV             37500 non-null float64\n",
      "beer/beerId          37500 non-null int64\n",
      "beer/brewerId        37500 non-null int64\n",
      "beer/name            37500 non-null category\n",
      "beer/style           37500 non-null category\n",
      "review/appearance    37500 non-null float64\n",
      "review/aroma         37500 non-null float64\n",
      "review/overall       37500 non-null float64\n",
      "review/palate        37500 non-null float64\n",
      "review/taste         37500 non-null float64\n",
      "review/text          37490 non-null category\n",
      "review/timeStruct    37500 non-null category\n",
      "review/timeUnix      37500 non-null int64\n",
      "user/ageInSeconds    7856 non-null float64\n",
      "user/birthdayRaw     7856 non-null category\n",
      "user/birthdayUnix    7856 non-null float64\n",
      "user/gender          15314 non-null category\n",
      "user/profileName     37495 non-null category\n",
      "dtypes: category(7), float64(8), int64(4)\n",
      "memory usage: 7.6 MB\n"
     ]
    }
   ],
   "source": [
    "## Examine structure\n",
    "reviews.info()"
   ]
  },
  {
   "cell_type": "code",
   "execution_count": 70,
   "metadata": {},
   "outputs": [
    {
     "data": {
      "text/html": [
       "<div>\n",
       "<style scoped>\n",
       "    .dataframe tbody tr th:only-of-type {\n",
       "        vertical-align: middle;\n",
       "    }\n",
       "\n",
       "    .dataframe tbody tr th {\n",
       "        vertical-align: top;\n",
       "    }\n",
       "\n",
       "    .dataframe thead th {\n",
       "        text-align: right;\n",
       "    }\n",
       "</style>\n",
       "<table border=\"1\" class=\"dataframe\">\n",
       "  <thead>\n",
       "    <tr style=\"text-align: right;\">\n",
       "      <th></th>\n",
       "      <th>index</th>\n",
       "      <th>beer/ABV</th>\n",
       "      <th>beer/beerId</th>\n",
       "      <th>beer/brewerId</th>\n",
       "      <th>review/appearance</th>\n",
       "      <th>review/aroma</th>\n",
       "      <th>review/overall</th>\n",
       "      <th>review/palate</th>\n",
       "      <th>review/taste</th>\n",
       "      <th>review/timeUnix</th>\n",
       "      <th>user/ageInSeconds</th>\n",
       "      <th>user/birthdayUnix</th>\n",
       "    </tr>\n",
       "  </thead>\n",
       "  <tbody>\n",
       "    <tr>\n",
       "      <td>count</td>\n",
       "      <td>37500.000000</td>\n",
       "      <td>37500.000000</td>\n",
       "      <td>37500.000000</td>\n",
       "      <td>37500.000000</td>\n",
       "      <td>37500.000000</td>\n",
       "      <td>37500.000000</td>\n",
       "      <td>37500.00000</td>\n",
       "      <td>37500.000000</td>\n",
       "      <td>37500.000000</td>\n",
       "      <td>3.750000e+04</td>\n",
       "      <td>7.856000e+03</td>\n",
       "      <td>7.856000e+03</td>\n",
       "    </tr>\n",
       "    <tr>\n",
       "      <td>mean</td>\n",
       "      <td>24951.887573</td>\n",
       "      <td>7.403725</td>\n",
       "      <td>21861.152027</td>\n",
       "      <td>3036.595120</td>\n",
       "      <td>3.900053</td>\n",
       "      <td>3.873240</td>\n",
       "      <td>3.88944</td>\n",
       "      <td>3.854867</td>\n",
       "      <td>3.922440</td>\n",
       "      <td>1.232794e+09</td>\n",
       "      <td>1.176705e+09</td>\n",
       "      <td>2.416303e+08</td>\n",
       "    </tr>\n",
       "    <tr>\n",
       "      <td>std</td>\n",
       "      <td>14434.009669</td>\n",
       "      <td>2.318145</td>\n",
       "      <td>18923.130832</td>\n",
       "      <td>5123.084675</td>\n",
       "      <td>0.588778</td>\n",
       "      <td>0.680865</td>\n",
       "      <td>0.70045</td>\n",
       "      <td>0.668068</td>\n",
       "      <td>0.716504</td>\n",
       "      <td>7.190955e+07</td>\n",
       "      <td>3.375514e+08</td>\n",
       "      <td>3.375514e+08</td>\n",
       "    </tr>\n",
       "    <tr>\n",
       "      <td>min</td>\n",
       "      <td>0.000000</td>\n",
       "      <td>0.100000</td>\n",
       "      <td>175.000000</td>\n",
       "      <td>1.000000</td>\n",
       "      <td>0.000000</td>\n",
       "      <td>1.000000</td>\n",
       "      <td>0.00000</td>\n",
       "      <td>1.000000</td>\n",
       "      <td>1.000000</td>\n",
       "      <td>9.262944e+08</td>\n",
       "      <td>7.034366e+08</td>\n",
       "      <td>-2.208960e+09</td>\n",
       "    </tr>\n",
       "    <tr>\n",
       "      <td>25%</td>\n",
       "      <td>12422.500000</td>\n",
       "      <td>5.400000</td>\n",
       "      <td>5441.000000</td>\n",
       "      <td>395.000000</td>\n",
       "      <td>3.500000</td>\n",
       "      <td>3.500000</td>\n",
       "      <td>3.50000</td>\n",
       "      <td>3.500000</td>\n",
       "      <td>3.500000</td>\n",
       "      <td>1.189194e+09</td>\n",
       "      <td>9.794810e+08</td>\n",
       "      <td>1.433628e+08</td>\n",
       "    </tr>\n",
       "    <tr>\n",
       "      <td>50%</td>\n",
       "      <td>24942.500000</td>\n",
       "      <td>6.900000</td>\n",
       "      <td>17538.000000</td>\n",
       "      <td>1199.000000</td>\n",
       "      <td>4.000000</td>\n",
       "      <td>4.000000</td>\n",
       "      <td>4.00000</td>\n",
       "      <td>4.000000</td>\n",
       "      <td>4.000000</td>\n",
       "      <td>1.248150e+09</td>\n",
       "      <td>1.100009e+09</td>\n",
       "      <td>3.183264e+08</td>\n",
       "    </tr>\n",
       "    <tr>\n",
       "      <td>75%</td>\n",
       "      <td>37416.750000</td>\n",
       "      <td>9.400000</td>\n",
       "      <td>34146.000000</td>\n",
       "      <td>1315.000000</td>\n",
       "      <td>4.500000</td>\n",
       "      <td>4.500000</td>\n",
       "      <td>4.50000</td>\n",
       "      <td>4.500000</td>\n",
       "      <td>4.500000</td>\n",
       "      <td>1.291330e+09</td>\n",
       "      <td>1.274973e+09</td>\n",
       "      <td>4.388544e+08</td>\n",
       "    </tr>\n",
       "    <tr>\n",
       "      <td>max</td>\n",
       "      <td>49999.000000</td>\n",
       "      <td>57.700000</td>\n",
       "      <td>77207.000000</td>\n",
       "      <td>27797.000000</td>\n",
       "      <td>5.000000</td>\n",
       "      <td>5.000000</td>\n",
       "      <td>5.00000</td>\n",
       "      <td>5.000000</td>\n",
       "      <td>5.000000</td>\n",
       "      <td>1.326267e+09</td>\n",
       "      <td>3.627295e+09</td>\n",
       "      <td>7.148988e+08</td>\n",
       "    </tr>\n",
       "  </tbody>\n",
       "</table>\n",
       "</div>"
      ],
      "text/plain": [
       "              index      beer/ABV   beer/beerId  beer/brewerId  \\\n",
       "count  37500.000000  37500.000000  37500.000000   37500.000000   \n",
       "mean   24951.887573      7.403725  21861.152027    3036.595120   \n",
       "std    14434.009669      2.318145  18923.130832    5123.084675   \n",
       "min        0.000000      0.100000    175.000000       1.000000   \n",
       "25%    12422.500000      5.400000   5441.000000     395.000000   \n",
       "50%    24942.500000      6.900000  17538.000000    1199.000000   \n",
       "75%    37416.750000      9.400000  34146.000000    1315.000000   \n",
       "max    49999.000000     57.700000  77207.000000   27797.000000   \n",
       "\n",
       "       review/appearance  review/aroma  review/overall  review/palate  \\\n",
       "count       37500.000000  37500.000000     37500.00000   37500.000000   \n",
       "mean            3.900053      3.873240         3.88944       3.854867   \n",
       "std             0.588778      0.680865         0.70045       0.668068   \n",
       "min             0.000000      1.000000         0.00000       1.000000   \n",
       "25%             3.500000      3.500000         3.50000       3.500000   \n",
       "50%             4.000000      4.000000         4.00000       4.000000   \n",
       "75%             4.500000      4.500000         4.50000       4.500000   \n",
       "max             5.000000      5.000000         5.00000       5.000000   \n",
       "\n",
       "       review/taste  review/timeUnix  user/ageInSeconds  user/birthdayUnix  \n",
       "count  37500.000000     3.750000e+04       7.856000e+03       7.856000e+03  \n",
       "mean       3.922440     1.232794e+09       1.176705e+09       2.416303e+08  \n",
       "std        0.716504     7.190955e+07       3.375514e+08       3.375514e+08  \n",
       "min        1.000000     9.262944e+08       7.034366e+08      -2.208960e+09  \n",
       "25%        3.500000     1.189194e+09       9.794810e+08       1.433628e+08  \n",
       "50%        4.000000     1.248150e+09       1.100009e+09       3.183264e+08  \n",
       "75%        4.500000     1.291330e+09       1.274973e+09       4.388544e+08  \n",
       "max        5.000000     1.326267e+09       3.627295e+09       7.148988e+08  "
      ]
     },
     "execution_count": 70,
     "metadata": {},
     "output_type": "execute_result"
    }
   ],
   "source": [
    "reviews.describe()"
   ]
  },
  {
   "cell_type": "markdown",
   "metadata": {},
   "source": [
    "# Missing Data"
   ]
  },
  {
   "cell_type": "markdown",
   "metadata": {},
   "source": [
    "# Null check"
   ]
  },
  {
   "cell_type": "code",
   "execution_count": 71,
   "metadata": {},
   "outputs": [
    {
     "name": "stdout",
     "output_type": "stream",
     "text": [
      "index                    0\n",
      "beer/ABV                 0\n",
      "beer/beerId              0\n",
      "beer/brewerId            0\n",
      "beer/name                0\n",
      "beer/style               0\n",
      "review/appearance        0\n",
      "review/aroma             0\n",
      "review/overall           0\n",
      "review/palate            0\n",
      "review/taste             0\n",
      "review/text             10\n",
      "review/timeStruct        0\n",
      "review/timeUnix          0\n",
      "user/ageInSeconds    29644\n",
      "user/birthdayRaw     29644\n",
      "user/birthdayUnix    29644\n",
      "user/gender          22186\n",
      "user/profileName         5\n",
      "dtype: int64\n"
     ]
    }
   ],
   "source": [
    "# Null Check \n",
    "# Check for null values\n",
    "print(reviews.isnull().sum())"
   ]
  },
  {
   "cell_type": "code",
   "execution_count": 19,
   "metadata": {},
   "outputs": [
    {
     "name": "stdout",
     "output_type": "stream",
     "text": [
      "Percent Null Values of `beer_abv` column: 4.27 %\n"
     ]
    }
   ],
   "source": [
    "# Percent of data missing `beer_abv` values\n",
    "print(\"Percent Null Values of `beer_abv` column:\", round(67785 / 1586614 * 100, 2),\"%\")"
   ]
  },
  {
   "cell_type": "code",
   "execution_count": 72,
   "metadata": {},
   "outputs": [
    {
     "name": "stdout",
     "output_type": "stream",
     "text": [
      "<class 'pandas.core.frame.DataFrame'>\n",
      "Int64Index: 7709 entries, 3 to 37492\n",
      "Data columns (total 19 columns):\n",
      "index                7709 non-null int64\n",
      "beer/ABV             7709 non-null float64\n",
      "beer/beerId          7709 non-null int64\n",
      "beer/brewerId        7709 non-null int64\n",
      "beer/name            7709 non-null category\n",
      "beer/style           7709 non-null category\n",
      "review/appearance    7709 non-null float64\n",
      "review/aroma         7709 non-null float64\n",
      "review/overall       7709 non-null float64\n",
      "review/palate        7709 non-null float64\n",
      "review/taste         7709 non-null float64\n",
      "review/text          7709 non-null category\n",
      "review/timeStruct    7709 non-null category\n",
      "review/timeUnix      7709 non-null int64\n",
      "user/ageInSeconds    7709 non-null float64\n",
      "user/birthdayRaw     7709 non-null category\n",
      "user/birthdayUnix    7709 non-null float64\n",
      "user/gender          7709 non-null category\n",
      "user/profileName     7709 non-null category\n",
      "dtypes: category(7), float64(8), int64(4)\n",
      "memory usage: 4.5 MB\n"
     ]
    }
   ],
   "source": [
    "# Drop null row values\n",
    "reviews = reviews.dropna()\n",
    "reviews.info()"
   ]
  },
  {
   "cell_type": "code",
   "execution_count": 21,
   "metadata": {},
   "outputs": [
    {
     "name": "stdout",
     "output_type": "stream",
     "text": [
      "index                0\n",
      "beer/ABV             0\n",
      "beer/beerId          0\n",
      "beer/brewerId        0\n",
      "beer/name            0\n",
      "beer/style           0\n",
      "review/appearance    0\n",
      "review/aroma         0\n",
      "review/overall       0\n",
      "review/palate        0\n",
      "review/taste         0\n",
      "review/text          0\n",
      "review/timeStruct    0\n",
      "review/timeUnix      0\n",
      "user/ageInSeconds    0\n",
      "user/birthdayRaw     0\n",
      "user/birthdayUnix    0\n",
      "user/gender          0\n",
      "user/profileName     0\n",
      "dtype: int64\n"
     ]
    }
   ],
   "source": [
    "# Check for null values\n",
    "print(reviews.isnull().sum())"
   ]
  },
  {
   "cell_type": "markdown",
   "metadata": {},
   "source": [
    "# Duplicate data"
   ]
  },
  {
   "cell_type": "code",
   "execution_count": 73,
   "metadata": {},
   "outputs": [
    {
     "name": "stdout",
     "output_type": "stream",
     "text": [
      "<class 'pandas.core.frame.DataFrame'>\n",
      "Int64Index: 7657 entries, 18824 to 11836\n",
      "Data columns (total 19 columns):\n",
      "index                7657 non-null int64\n",
      "beer/ABV             7657 non-null float64\n",
      "beer/beerId          7657 non-null int64\n",
      "beer/brewerId        7657 non-null int64\n",
      "beer/name            7657 non-null category\n",
      "beer/style           7657 non-null category\n",
      "review/appearance    7657 non-null float64\n",
      "review/aroma         7657 non-null float64\n",
      "review/overall       7657 non-null float64\n",
      "review/palate        7657 non-null float64\n",
      "review/taste         7657 non-null float64\n",
      "review/text          7657 non-null category\n",
      "review/timeStruct    7657 non-null category\n",
      "review/timeUnix      7657 non-null int64\n",
      "user/ageInSeconds    7657 non-null float64\n",
      "user/birthdayRaw     7657 non-null category\n",
      "user/birthdayUnix    7657 non-null float64\n",
      "user/gender          7657 non-null category\n",
      "user/profileName     7657 non-null category\n",
      "dtypes: category(7), float64(8), int64(4)\n",
      "memory usage: 4.5 MB\n",
      "Percent of Duplicate Values: 1.46 %\n"
     ]
    }
   ],
   "source": [
    "#Duplicate Data \n",
    "# Sort by user overall rating first\n",
    "reviews = reviews.sort_values('review/overall', ascending=False)\n",
    "\n",
    "# Keep the highest rating from each user and drop the rest \n",
    "reviews = reviews.drop_duplicates(subset= ['user/profileName','beer/name'], keep='first')\n",
    "\n",
    "# Peep structure\n",
    "reviews.info()\n",
    "\n",
    "# Percent of data that are duplicates\n",
    "print(\"Percent of Duplicate Values:\", round((1518478 - 1496263)/ 1518478 * 100, 2),\"%\")"
   ]
  },
  {
   "cell_type": "markdown",
   "metadata": {},
   "source": [
    "# overview of Numeric feature"
   ]
  },
  {
   "cell_type": "code",
   "execution_count": 74,
   "metadata": {},
   "outputs": [
    {
     "data": {
      "image/png": "[encoded data removed]",
      "text/plain": [
       "<Figure size 864x864 with 12 Axes>"
      ]
     },
     "metadata": {},
     "output_type": "display_data"
    }
   ],
   "source": [
    "# Histogram of all numeric features\n",
    "reviews.hist(figsize=(12,12))\n",
    "plt.show()"
   ]
  },
  {
   "cell_type": "markdown",
   "metadata": {},
   "source": [
    "# Ratings of 0\n",
    "since ratings are on a scale of 1-5, any values in review variables that are less than 1 are not suitable for analysis.\n",
    "However, it's always a good idea to check for numbers which don't make sense in your dataset."
   ]
  },
  {
   "cell_type": "code",
   "execution_count": 75,
   "metadata": {},
   "outputs": [],
   "source": [
    "# Review scores of >= 1\n",
    "reviews = reviews[(reviews['review/overall'] >= 1) | \\\n",
    "        (reviews['review/appearance'] >= 1)]"
   ]
  },
  {
   "cell_type": "code",
   "execution_count": 76,
   "metadata": {},
   "outputs": [
    {
     "name": "stdout",
     "output_type": "stream",
     "text": [
      "<class 'pandas.core.frame.DataFrame'>\n",
      "Int64Index: 7657 entries, 18824 to 11836\n",
      "Data columns (total 19 columns):\n",
      "index                7657 non-null int64\n",
      "beer/ABV             7657 non-null float64\n",
      "beer/beerId          7657 non-null int64\n",
      "beer/brewerId        7657 non-null int64\n",
      "beer/name            7657 non-null category\n",
      "beer/style           7657 non-null category\n",
      "review/appearance    7657 non-null float64\n",
      "review/aroma         7657 non-null float64\n",
      "review/overall       7657 non-null float64\n",
      "review/palate        7657 non-null float64\n",
      "review/taste         7657 non-null float64\n",
      "review/text          7657 non-null category\n",
      "review/timeStruct    7657 non-null category\n",
      "review/timeUnix      7657 non-null int64\n",
      "user/ageInSeconds    7657 non-null float64\n",
      "user/birthdayRaw     7657 non-null category\n",
      "user/birthdayUnix    7657 non-null float64\n",
      "user/gender          7657 non-null category\n",
      "user/profileName     7657 non-null category\n",
      "dtypes: category(7), float64(8), int64(4)\n",
      "memory usage: 4.5 MB\n"
     ]
    }
   ],
   "source": [
    "reviews.info()"
   ]
  },
  {
   "cell_type": "markdown",
   "metadata": {},
   "source": [
    "# Feature selection \n",
    "Which of the factors (aroma, taste, appearance, palette) are most important in determining the overall quality of a beer?"
   ]
  },
  {
   "cell_type": "code",
   "execution_count": 78,
   "metadata": {},
   "outputs": [
    {
     "data": {
      "text/plain": [
       "<matplotlib.axes._subplots.AxesSubplot at 0x2c8be2cb648>"
      ]
     },
     "execution_count": 78,
     "metadata": {},
     "output_type": "execute_result"
    },
    {
     "data": {
      "image/png": "[encoded data removed]",
      "text/plain": [
       "<Figure size 504x360 with 2 Axes>"
      ]
     },
     "metadata": {},
     "output_type": "display_data"
    }
   ],
   "source": [
    "reviews_corr = reviews\n",
    "#Set the width and height of the plot\n",
    "f, ax = plt.subplots(figsize=(7, 5))\n",
    "#Generate correlation matrix\n",
    "corr = reviews_corr.corr()\n",
    "#Plot using seaborn library\n",
    "sns.heatmap(corr, mask=np.zeros_like(corr, dtype=np.bool), cmap='Greens',\n",
    "            square=True,annot= True, ax=ax)\n",
    "# Dark shades represents positive correlation while lighter shades represents negative correlation."
   ]
  },
  {
   "cell_type": "code",
   "execution_count": 79,
   "metadata": {},
   "outputs": [
    {
     "data": {
      "text/html": [
       "<style  type=\"text/css\" >\n",
       "    #T_258966fe_16ba_11eb_96ae_38d547a004fbrow0_col0 {\n",
       "            background-color:  #08306b;\n",
       "            color:  #f1f1f1;\n",
       "        }    #T_258966fe_16ba_11eb_96ae_38d547a004fbrow0_col1 {\n",
       "            background-color:  #f7fbff;\n",
       "            color:  #000000;\n",
       "        }    #T_258966fe_16ba_11eb_96ae_38d547a004fbrow0_col2 {\n",
       "            background-color:  #f7fbff;\n",
       "            color:  #000000;\n",
       "        }    #T_258966fe_16ba_11eb_96ae_38d547a004fbrow0_col3 {\n",
       "            background-color:  #f7fbff;\n",
       "            color:  #000000;\n",
       "        }    #T_258966fe_16ba_11eb_96ae_38d547a004fbrow0_col4 {\n",
       "            background-color:  #f7fbff;\n",
       "            color:  #000000;\n",
       "        }    #T_258966fe_16ba_11eb_96ae_38d547a004fbrow1_col0 {\n",
       "            background-color:  #e2edf8;\n",
       "            color:  #000000;\n",
       "        }    #T_258966fe_16ba_11eb_96ae_38d547a004fbrow1_col1 {\n",
       "            background-color:  #08306b;\n",
       "            color:  #f1f1f1;\n",
       "        }    #T_258966fe_16ba_11eb_96ae_38d547a004fbrow1_col2 {\n",
       "            background-color:  #dfecf7;\n",
       "            color:  #000000;\n",
       "        }    #T_258966fe_16ba_11eb_96ae_38d547a004fbrow1_col3 {\n",
       "            background-color:  #99c7e0;\n",
       "            color:  #000000;\n",
       "        }    #T_258966fe_16ba_11eb_96ae_38d547a004fbrow1_col4 {\n",
       "            background-color:  #c7dcef;\n",
       "            color:  #000000;\n",
       "        }    #T_258966fe_16ba_11eb_96ae_38d547a004fbrow2_col0 {\n",
       "            background-color:  #dceaf6;\n",
       "            color:  #000000;\n",
       "        }    #T_258966fe_16ba_11eb_96ae_38d547a004fbrow2_col1 {\n",
       "            background-color:  #dae8f6;\n",
       "            color:  #000000;\n",
       "        }    #T_258966fe_16ba_11eb_96ae_38d547a004fbrow2_col2 {\n",
       "            background-color:  #08306b;\n",
       "            color:  #f1f1f1;\n",
       "        }    #T_258966fe_16ba_11eb_96ae_38d547a004fbrow2_col3 {\n",
       "            background-color:  #8dc1dd;\n",
       "            color:  #000000;\n",
       "        }    #T_258966fe_16ba_11eb_96ae_38d547a004fbrow2_col4 {\n",
       "            background-color:  #97c6df;\n",
       "            color:  #000000;\n",
       "        }    #T_258966fe_16ba_11eb_96ae_38d547a004fbrow3_col0 {\n",
       "            background-color:  #e7f0fa;\n",
       "            color:  #000000;\n",
       "        }    #T_258966fe_16ba_11eb_96ae_38d547a004fbrow3_col1 {\n",
       "            background-color:  #9fcae1;\n",
       "            color:  #000000;\n",
       "        }    #T_258966fe_16ba_11eb_96ae_38d547a004fbrow3_col2 {\n",
       "            background-color:  #9cc9e1;\n",
       "            color:  #000000;\n",
       "        }    #T_258966fe_16ba_11eb_96ae_38d547a004fbrow3_col3 {\n",
       "            background-color:  #08306b;\n",
       "            color:  #f1f1f1;\n",
       "        }    #T_258966fe_16ba_11eb_96ae_38d547a004fbrow3_col4 {\n",
       "            background-color:  #549fcd;\n",
       "            color:  #000000;\n",
       "        }    #T_258966fe_16ba_11eb_96ae_38d547a004fbrow4_col0 {\n",
       "            background-color:  #f7fbff;\n",
       "            color:  #000000;\n",
       "        }    #T_258966fe_16ba_11eb_96ae_38d547a004fbrow4_col1 {\n",
       "            background-color:  #d9e7f5;\n",
       "            color:  #000000;\n",
       "        }    #T_258966fe_16ba_11eb_96ae_38d547a004fbrow4_col2 {\n",
       "            background-color:  #b7d4ea;\n",
       "            color:  #000000;\n",
       "        }    #T_258966fe_16ba_11eb_96ae_38d547a004fbrow4_col3 {\n",
       "            background-color:  #61a7d2;\n",
       "            color:  #000000;\n",
       "        }    #T_258966fe_16ba_11eb_96ae_38d547a004fbrow4_col4 {\n",
       "            background-color:  #08306b;\n",
       "            color:  #f1f1f1;\n",
       "        }</style><table id=\"T_258966fe_16ba_11eb_96ae_38d547a004fb\" ><thead>    <tr>        <th class=\"blank level0\" ></th>        <th class=\"col_heading level0 col0\" >review/appearance</th>        <th class=\"col_heading level0 col1\" >review/aroma</th>        <th class=\"col_heading level0 col2\" >review/palate</th>        <th class=\"col_heading level0 col3\" >review/taste</th>        <th class=\"col_heading level0 col4\" >review/overall</th>    </tr></thead><tbody>\n",
       "                <tr>\n",
       "                        <th id=\"T_258966fe_16ba_11eb_96ae_38d547a004fblevel0_row0\" class=\"row_heading level0 row0\" >review/appearance</th>\n",
       "                        <td id=\"T_258966fe_16ba_11eb_96ae_38d547a004fbrow0_col0\" class=\"data row0 col0\" >1</td>\n",
       "                        <td id=\"T_258966fe_16ba_11eb_96ae_38d547a004fbrow0_col1\" class=\"data row0 col1\" >0.523297</td>\n",
       "                        <td id=\"T_258966fe_16ba_11eb_96ae_38d547a004fbrow0_col2\" class=\"data row0 col2\" >0.538732</td>\n",
       "                        <td id=\"T_258966fe_16ba_11eb_96ae_38d547a004fbrow0_col3\" class=\"data row0 col3\" >0.510861</td>\n",
       "                        <td id=\"T_258966fe_16ba_11eb_96ae_38d547a004fbrow0_col4\" class=\"data row0 col4\" >0.466908</td>\n",
       "            </tr>\n",
       "            <tr>\n",
       "                        <th id=\"T_258966fe_16ba_11eb_96ae_38d547a004fblevel0_row1\" class=\"row_heading level0 row1\" >review/aroma</th>\n",
       "                        <td id=\"T_258966fe_16ba_11eb_96ae_38d547a004fbrow1_col0\" class=\"data row1 col0\" >0.523297</td>\n",
       "                        <td id=\"T_258966fe_16ba_11eb_96ae_38d547a004fbrow1_col1\" class=\"data row1 col1\" >1</td>\n",
       "                        <td id=\"T_258966fe_16ba_11eb_96ae_38d547a004fbrow1_col2\" class=\"data row1 col2\" >0.59328</td>\n",
       "                        <td id=\"T_258966fe_16ba_11eb_96ae_38d547a004fbrow1_col3\" class=\"data row1 col3\" >0.700917</td>\n",
       "                        <td id=\"T_258966fe_16ba_11eb_96ae_38d547a004fbrow1_col4\" class=\"data row1 col4\" >0.596534</td>\n",
       "            </tr>\n",
       "            <tr>\n",
       "                        <th id=\"T_258966fe_16ba_11eb_96ae_38d547a004fblevel0_row2\" class=\"row_heading level0 row2\" >review/palate</th>\n",
       "                        <td id=\"T_258966fe_16ba_11eb_96ae_38d547a004fbrow2_col0\" class=\"data row2 col0\" >0.538732</td>\n",
       "                        <td id=\"T_258966fe_16ba_11eb_96ae_38d547a004fbrow2_col1\" class=\"data row2 col1\" >0.59328</td>\n",
       "                        <td id=\"T_258966fe_16ba_11eb_96ae_38d547a004fbrow2_col2\" class=\"data row2 col2\" >1</td>\n",
       "                        <td id=\"T_258966fe_16ba_11eb_96ae_38d547a004fbrow2_col3\" class=\"data row2 col3\" >0.714207</td>\n",
       "                        <td id=\"T_258966fe_16ba_11eb_96ae_38d547a004fbrow2_col4\" class=\"data row2 col4\" >0.676875</td>\n",
       "            </tr>\n",
       "            <tr>\n",
       "                        <th id=\"T_258966fe_16ba_11eb_96ae_38d547a004fblevel0_row3\" class=\"row_heading level0 row3\" >review/taste</th>\n",
       "                        <td id=\"T_258966fe_16ba_11eb_96ae_38d547a004fbrow3_col0\" class=\"data row3 col0\" >0.510861</td>\n",
       "                        <td id=\"T_258966fe_16ba_11eb_96ae_38d547a004fbrow3_col1\" class=\"data row3 col1\" >0.700917</td>\n",
       "                        <td id=\"T_258966fe_16ba_11eb_96ae_38d547a004fbrow3_col2\" class=\"data row3 col2\" >0.714207</td>\n",
       "                        <td id=\"T_258966fe_16ba_11eb_96ae_38d547a004fbrow3_col3\" class=\"data row3 col3\" >1</td>\n",
       "                        <td id=\"T_258966fe_16ba_11eb_96ae_38d547a004fbrow3_col4\" class=\"data row3 col4\" >0.770479</td>\n",
       "            </tr>\n",
       "            <tr>\n",
       "                        <th id=\"T_258966fe_16ba_11eb_96ae_38d547a004fblevel0_row4\" class=\"row_heading level0 row4\" >review/overall</th>\n",
       "                        <td id=\"T_258966fe_16ba_11eb_96ae_38d547a004fbrow4_col0\" class=\"data row4 col0\" >0.466908</td>\n",
       "                        <td id=\"T_258966fe_16ba_11eb_96ae_38d547a004fbrow4_col1\" class=\"data row4 col1\" >0.596534</td>\n",
       "                        <td id=\"T_258966fe_16ba_11eb_96ae_38d547a004fbrow4_col2\" class=\"data row4 col2\" >0.676875</td>\n",
       "                        <td id=\"T_258966fe_16ba_11eb_96ae_38d547a004fbrow4_col3\" class=\"data row4 col3\" >0.770479</td>\n",
       "                        <td id=\"T_258966fe_16ba_11eb_96ae_38d547a004fbrow4_col4\" class=\"data row4 col4\" >1</td>\n",
       "            </tr>\n",
       "    </tbody></table>"
      ],
      "text/plain": [
       "<pandas.io.formats.style.Styler at 0x2c8bfc957c8>"
      ]
     },
     "execution_count": 79,
     "metadata": {},
     "output_type": "execute_result"
    }
   ],
   "source": [
    "#Correlation with Target\n",
    "# Method 1 - Heatmap: Pandas\n",
    "# List of numeric factors to include\n",
    "factors = [\"review/appearance\",\"review/aroma\",\"review/palate\",\"review/taste\", \"review/overall\"]\n",
    "\n",
    "# Create a correlation matrix \n",
    "corr_metrics = reviews[factors].corr()\n",
    "corr_metrics.style.background_gradient(cmap='Blues')"
   ]
  },
  {
   "cell_type": "code",
   "execution_count": 39,
   "metadata": {},
   "outputs": [
    {
     "data": {
      "application/vnd.plotly.v1+json": {
       "config": {
        "linkText": "Export to plot.ly",
        "plotlyServerURL": "https://plot.ly",
        "showLink": false
       },
       "data": [
        {
         "colorscale": [
          [
           0,
           "rgb(12,51,131)"
          ],
          [
           0.25,
           "rgb(10,136,186)"
          ],
          [
           0.5,
           "rgb(242,211,56)"
          ],
          [
           0.75,
           "rgb(242,143,56)"
          ],
          [
           1,
           "rgb(217,30,30)"
          ]
         ],
         "reversescale": false,
         "showscale": true,
         "type": "heatmap",
         "x": [
          "review/appearance",
          "review/aroma",
          "review/palate",
          "review/taste",
          "review/overall"
         ],
         "y": [
          "review/appearance",
          "review/aroma",
          "review/palate",
          "review/taste",
          "review/overall"
         ],
         "z": [
          [
           1,
           0.5232966852610188,
           0.5387321449574258,
           0.5108607808047437,
           0.4669076265086169
          ],
          [
           0.5232966852610188,
           1,
           0.5932801215525204,
           0.7009166692864212,
           0.5965340775908462
          ],
          [
           0.5387321449574258,
           0.5932801215525204,
           1,
           0.7142065027795105,
           0.676875351820133
          ],
          [
           0.5108607808047437,
           0.7009166692864212,
           0.7142065027795105,
           1,
           0.770479440154428
          ],
          [
           0.4669076265086169,
           0.5965340775908462,
           0.676875351820133,
           0.770479440154428,
           1
          ]
         ]
        }
       ],
       "layout": {
        "annotations": [
         {
          "font": {
           "color": "white"
          },
          "showarrow": false,
          "text": "1.0",
          "x": "review/appearance",
          "xref": "x",
          "y": "review/appearance",
          "yref": "y"
         },
         {
          "font": {
           "color": "white"
          },
          "showarrow": false,
          "text": "0.52",
          "x": "review/aroma",
          "xref": "x",
          "y": "review/appearance",
          "yref": "y"
         },
         {
          "font": {
           "color": "white"
          },
          "showarrow": false,
          "text": "0.54",
          "x": "review/palate",
          "xref": "x",
          "y": "review/appearance",
          "yref": "y"
         },
         {
          "font": {
           "color": "white"
          },
          "showarrow": false,
          "text": "0.51",
          "x": "review/taste",
          "xref": "x",
          "y": "review/appearance",
          "yref": "y"
         },
         {
          "font": {
           "color": "white"
          },
          "showarrow": false,
          "text": "0.47",
          "x": "review/overall",
          "xref": "x",
          "y": "review/appearance",
          "yref": "y"
         },
         {
          "font": {
           "color": "white"
          },
          "showarrow": false,
          "text": "0.52",
          "x": "review/appearance",
          "xref": "x",
          "y": "review/aroma",
          "yref": "y"
         },
         {
          "font": {
           "color": "white"
          },
          "showarrow": false,
          "text": "1.0",
          "x": "review/aroma",
          "xref": "x",
          "y": "review/aroma",
          "yref": "y"
         },
         {
          "font": {
           "color": "white"
          },
          "showarrow": false,
          "text": "0.59",
          "x": "review/palate",
          "xref": "x",
          "y": "review/aroma",
          "yref": "y"
         },
         {
          "font": {
           "color": "white"
          },
          "showarrow": false,
          "text": "0.7",
          "x": "review/taste",
          "xref": "x",
          "y": "review/aroma",
          "yref": "y"
         },
         {
          "font": {
           "color": "white"
          },
          "showarrow": false,
          "text": "0.6",
          "x": "review/overall",
          "xref": "x",
          "y": "review/aroma",
          "yref": "y"
         },
         {
          "font": {
           "color": "white"
          },
          "showarrow": false,
          "text": "0.54",
          "x": "review/appearance",
          "xref": "x",
          "y": "review/palate",
          "yref": "y"
         },
         {
          "font": {
           "color": "white"
          },
          "showarrow": false,
          "text": "0.59",
          "x": "review/aroma",
          "xref": "x",
          "y": "review/palate",
          "yref": "y"
         },
         {
          "font": {
           "color": "white"
          },
          "showarrow": false,
          "text": "1.0",
          "x": "review/palate",
          "xref": "x",
          "y": "review/palate",
          "yref": "y"
         },
         {
          "font": {
           "color": "white"
          },
          "showarrow": false,
          "text": "0.71",
          "x": "review/taste",
          "xref": "x",
          "y": "review/palate",
          "yref": "y"
         },
         {
          "font": {
           "color": "white"
          },
          "showarrow": false,
          "text": "0.68",
          "x": "review/overall",
          "xref": "x",
          "y": "review/palate",
          "yref": "y"
         },
         {
          "font": {
           "color": "white"
          },
          "showarrow": false,
          "text": "0.51",
          "x": "review/appearance",
          "xref": "x",
          "y": "review/taste",
          "yref": "y"
         },
         {
          "font": {
           "color": "white"
          },
          "showarrow": false,
          "text": "0.7",
          "x": "review/aroma",
          "xref": "x",
          "y": "review/taste",
          "yref": "y"
         },
         {
          "font": {
           "color": "white"
          },
          "showarrow": false,
          "text": "0.71",
          "x": "review/palate",
          "xref": "x",
          "y": "review/taste",
          "yref": "y"
         },
         {
          "font": {
           "color": "white"
          },
          "showarrow": false,
          "text": "1.0",
          "x": "review/taste",
          "xref": "x",
          "y": "review/taste",
          "yref": "y"
         },
         {
          "font": {
           "color": "white"
          },
          "showarrow": false,
          "text": "0.77",
          "x": "review/overall",
          "xref": "x",
          "y": "review/taste",
          "yref": "y"
         },
         {
          "font": {
           "color": "white"
          },
          "showarrow": false,
          "text": "0.47",
          "x": "review/appearance",
          "xref": "x",
          "y": "review/overall",
          "yref": "y"
         },
         {
          "font": {
           "color": "white"
          },
          "showarrow": false,
          "text": "0.6",
          "x": "review/aroma",
          "xref": "x",
          "y": "review/overall",
          "yref": "y"
         },
         {
          "font": {
           "color": "white"
          },
          "showarrow": false,
          "text": "0.68",
          "x": "review/palate",
          "xref": "x",
          "y": "review/overall",
          "yref": "y"
         },
         {
          "font": {
           "color": "white"
          },
          "showarrow": false,
          "text": "0.77",
          "x": "review/taste",
          "xref": "x",
          "y": "review/overall",
          "yref": "y"
         },
         {
          "font": {
           "color": "white"
          },
          "showarrow": false,
          "text": "1.0",
          "x": "review/overall",
          "xref": "x",
          "y": "review/overall",
          "yref": "y"
         }
        ],
        "template": {
         "data": {
          "bar": [
           {
            "error_x": {
             "color": "#2a3f5f"
            },
            "error_y": {
             "color": "#2a3f5f"
            },
            "marker": {
             "line": {
              "color": "#E5ECF6",
              "width": 0.5
             }
            },
            "type": "bar"
           }
          ],
          "barpolar": [
           {
            "marker": {
             "line": {
              "color": "#E5ECF6",
              "width": 0.5
             }
            },
            "type": "barpolar"
           }
          ],
          "carpet": [
           {
            "aaxis": {
             "endlinecolor": "#2a3f5f",
             "gridcolor": "white",
             "linecolor": "white",
             "minorgridcolor": "white",
             "startlinecolor": "#2a3f5f"
            },
            "baxis": {
             "endlinecolor": "#2a3f5f",
             "gridcolor": "white",
             "linecolor": "white",
             "minorgridcolor": "white",
             "startlinecolor": "#2a3f5f"
            },
            "type": "carpet"
           }
          ],
          "choropleth": [
           {
            "colorbar": {
             "outlinewidth": 0,
             "ticks": ""
            },
            "type": "choropleth"
           }
          ],
          "contour": [
           {
            "colorbar": {
             "outlinewidth": 0,
             "ticks": ""
            },
            "colorscale": [
             [
              0,
              "#0d0887"
             ],
             [
              0.1111111111111111,
              "#46039f"
             ],
             [
              0.2222222222222222,
              "#7201a8"
             ],
             [
              0.3333333333333333,
              "#9c179e"
             ],
             [
              0.4444444444444444,
              "#bd3786"
             ],
             [
              0.5555555555555556,
              "#d8576b"
             ],
             [
              0.6666666666666666,
              "#ed7953"
             ],
             [
              0.7777777777777778,
              "#fb9f3a"
             ],
             [
              0.8888888888888888,
              "#fdca26"
             ],
             [
              1,
              "#f0f921"
             ]
            ],
            "type": "contour"
           }
          ],
          "contourcarpet": [
           {
            "colorbar": {
             "outlinewidth": 0,
             "ticks": ""
            },
            "type": "contourcarpet"
           }
          ],
          "heatmap": [
           {
            "colorbar": {
             "outlinewidth": 0,
             "ticks": ""
            },
            "colorscale": [
             [
              0,
              "#0d0887"
             ],
             [
              0.1111111111111111,
              "#46039f"
             ],
             [
              0.2222222222222222,
              "#7201a8"
             ],
             [
              0.3333333333333333,
              "#9c179e"
             ],
             [
              0.4444444444444444,
              "#bd3786"
             ],
             [
              0.5555555555555556,
              "#d8576b"
             ],
             [
              0.6666666666666666,
              "#ed7953"
             ],
             [
              0.7777777777777778,
              "#fb9f3a"
             ],
             [
              0.8888888888888888,
              "#fdca26"
             ],
             [
              1,
              "#f0f921"
             ]
            ],
            "type": "heatmap"
           }
          ],
          "heatmapgl": [
           {
            "colorbar": {
             "outlinewidth": 0,
             "ticks": ""
            },
            "colorscale": [
             [
              0,
              "#0d0887"
             ],
             [
              0.1111111111111111,
              "#46039f"
             ],
             [
              0.2222222222222222,
              "#7201a8"
             ],
             [
              0.3333333333333333,
              "#9c179e"
             ],
             [
              0.4444444444444444,
              "#bd3786"
             ],
             [
              0.5555555555555556,
              "#d8576b"
             ],
             [
              0.6666666666666666,
              "#ed7953"
             ],
             [
              0.7777777777777778,
              "#fb9f3a"
             ],
             [
              0.8888888888888888,
              "#fdca26"
             ],
             [
              1,
              "#f0f921"
             ]
            ],
            "type": "heatmapgl"
           }
          ],
          "histogram": [
           {
            "marker": {
             "colorbar": {
              "outlinewidth": 0,
              "ticks": ""
             }
            },
            "type": "histogram"
           }
          ],
          "histogram2d": [
           {
            "colorbar": {
             "outlinewidth": 0,
             "ticks": ""
            },
            "colorscale": [
             [
              0,
              "#0d0887"
             ],
             [
              0.1111111111111111,
              "#46039f"
             ],
             [
              0.2222222222222222,
              "#7201a8"
             ],
             [
              0.3333333333333333,
              "#9c179e"
             ],
             [
              0.4444444444444444,
              "#bd3786"
             ],
             [
              0.5555555555555556,
              "#d8576b"
             ],
             [
              0.6666666666666666,
              "#ed7953"
             ],
             [
              0.7777777777777778,
              "#fb9f3a"
             ],
             [
              0.8888888888888888,
              "#fdca26"
             ],
             [
              1,
              "#f0f921"
             ]
            ],
            "type": "histogram2d"
           }
          ],
          "histogram2dcontour": [
           {
            "colorbar": {
             "outlinewidth": 0,
             "ticks": ""
            },
            "colorscale": [
             [
              0,
              "#0d0887"
             ],
             [
              0.1111111111111111,
              "#46039f"
             ],
             [
              0.2222222222222222,
              "#7201a8"
             ],
             [
              0.3333333333333333,
              "#9c179e"
             ],
             [
              0.4444444444444444,
              "#bd3786"
             ],
             [
              0.5555555555555556,
              "#d8576b"
             ],
             [
              0.6666666666666666,
              "#ed7953"
             ],
             [
              0.7777777777777778,
              "#fb9f3a"
             ],
             [
              0.8888888888888888,
              "#fdca26"
             ],
             [
              1,
              "#f0f921"
             ]
            ],
            "type": "histogram2dcontour"
           }
          ],
          "mesh3d": [
           {
            "colorbar": {
             "outlinewidth": 0,
             "ticks": ""
            },
            "type": "mesh3d"
           }
          ],
          "parcoords": [
           {
            "line": {
             "colorbar": {
              "outlinewidth": 0,
              "ticks": ""
             }
            },
            "type": "parcoords"
           }
          ],
          "pie": [
           {
            "automargin": true,
            "type": "pie"
           }
          ],
          "scatter": [
           {
            "marker": {
             "colorbar": {
              "outlinewidth": 0,
              "ticks": ""
             }
            },
            "type": "scatter"
           }
          ],
          "scatter3d": [
           {
            "line": {
             "colorbar": {
              "outlinewidth": 0,
              "ticks": ""
             }
            },
            "marker": {
             "colorbar": {
              "outlinewidth": 0,
              "ticks": ""
             }
            },
            "type": "scatter3d"
           }
          ],
          "scattercarpet": [
           {
            "marker": {
             "colorbar": {
              "outlinewidth": 0,
              "ticks": ""
             }
            },
            "type": "scattercarpet"
           }
          ],
          "scattergeo": [
           {
            "marker": {
             "colorbar": {
              "outlinewidth": 0,
              "ticks": ""
             }
            },
            "type": "scattergeo"
           }
          ],
          "scattergl": [
           {
            "marker": {
             "colorbar": {
              "outlinewidth": 0,
              "ticks": ""
             }
            },
            "type": "scattergl"
           }
          ],
          "scattermapbox": [
           {
            "marker": {
             "colorbar": {
              "outlinewidth": 0,
              "ticks": ""
             }
            },
            "type": "scattermapbox"
           }
          ],
          "scatterpolar": [
           {
            "marker": {
             "colorbar": {
              "outlinewidth": 0,
              "ticks": ""
             }
            },
            "type": "scatterpolar"
           }
          ],
          "scatterpolargl": [
           {
            "marker": {
             "colorbar": {
              "outlinewidth": 0,
              "ticks": ""
             }
            },
            "type": "scatterpolargl"
           }
          ],
          "scatterternary": [
           {
            "marker": {
             "colorbar": {
              "outlinewidth": 0,
              "ticks": ""
             }
            },
            "type": "scatterternary"
           }
          ],
          "surface": [
           {
            "colorbar": {
             "outlinewidth": 0,
             "ticks": ""
            },
            "colorscale": [
             [
              0,
              "#0d0887"
             ],
             [
              0.1111111111111111,
              "#46039f"
             ],
             [
              0.2222222222222222,
              "#7201a8"
             ],
             [
              0.3333333333333333,
              "#9c179e"
             ],
             [
              0.4444444444444444,
              "#bd3786"
             ],
             [
              0.5555555555555556,
              "#d8576b"
             ],
             [
              0.6666666666666666,
              "#ed7953"
             ],
             [
              0.7777777777777778,
              "#fb9f3a"
             ],
             [
              0.8888888888888888,
              "#fdca26"
             ],
             [
              1,
              "#f0f921"
             ]
            ],
            "type": "surface"
           }
          ],
          "table": [
           {
            "cells": {
             "fill": {
              "color": "#EBF0F8"
             },
             "line": {
              "color": "white"
             }
            },
            "header": {
             "fill": {
              "color": "#C8D4E3"
             },
             "line": {
              "color": "white"
             }
            },
            "type": "table"
           }
          ]
         },
         "layout": {
          "annotationdefaults": {
           "arrowcolor": "#2a3f5f",
           "arrowhead": 0,
           "arrowwidth": 1
          },
          "coloraxis": {
           "colorbar": {
            "outlinewidth": 0,
            "ticks": ""
           }
          },
          "colorscale": {
           "diverging": [
            [
             0,
             "#8e0152"
            ],
            [
             0.1,
             "#c51b7d"
            ],
            [
             0.2,
             "#de77ae"
            ],
            [
             0.3,
             "#f1b6da"
            ],
            [
             0.4,
             "#fde0ef"
            ],
            [
             0.5,
             "#f7f7f7"
            ],
            [
             0.6,
             "#e6f5d0"
            ],
            [
             0.7,
             "#b8e186"
            ],
            [
             0.8,
             "#7fbc41"
            ],
            [
             0.9,
             "#4d9221"
            ],
            [
             1,
             "#276419"
            ]
           ],
           "sequential": [
            [
             0,
             "#0d0887"
            ],
            [
             0.1111111111111111,
             "#46039f"
            ],
            [
             0.2222222222222222,
             "#7201a8"
            ],
            [
             0.3333333333333333,
             "#9c179e"
            ],
            [
             0.4444444444444444,
             "#bd3786"
            ],
            [
             0.5555555555555556,
             "#d8576b"
            ],
            [
             0.6666666666666666,
             "#ed7953"
            ],
            [
             0.7777777777777778,
             "#fb9f3a"
            ],
            [
             0.8888888888888888,
             "#fdca26"
            ],
            [
             1,
             "#f0f921"
            ]
           ],
           "sequentialminus": [
            [
             0,
             "#0d0887"
            ],
            [
             0.1111111111111111,
             "#46039f"
            ],
            [
             0.2222222222222222,
             "#7201a8"
            ],
            [
             0.3333333333333333,
             "#9c179e"
            ],
            [
             0.4444444444444444,
             "#bd3786"
            ],
            [
             0.5555555555555556,
             "#d8576b"
            ],
            [
             0.6666666666666666,
             "#ed7953"
            ],
            [
             0.7777777777777778,
             "#fb9f3a"
            ],
            [
             0.8888888888888888,
             "#fdca26"
            ],
            [
             1,
             "#f0f921"
            ]
           ]
          },
          "colorway": [
           "#636efa",
           "#EF553B",
           "#00cc96",
           "#ab63fa",
           "#FFA15A",
           "#19d3f3",
           "#FF6692",
           "#B6E880",
           "#FF97FF",
           "#FECB52"
          ],
          "font": {
           "color": "#2a3f5f"
          },
          "geo": {
           "bgcolor": "white",
           "lakecolor": "white",
           "landcolor": "#E5ECF6",
           "showlakes": true,
           "showland": true,
           "subunitcolor": "white"
          },
          "hoverlabel": {
           "align": "left"
          },
          "hovermode": "closest",
          "mapbox": {
           "style": "light"
          },
          "paper_bgcolor": "white",
          "plot_bgcolor": "#E5ECF6",
          "polar": {
           "angularaxis": {
            "gridcolor": "white",
            "linecolor": "white",
            "ticks": ""
           },
           "bgcolor": "#E5ECF6",
           "radialaxis": {
            "gridcolor": "white",
            "linecolor": "white",
            "ticks": ""
           }
          },
          "scene": {
           "xaxis": {
            "backgroundcolor": "#E5ECF6",
            "gridcolor": "white",
            "gridwidth": 2,
            "linecolor": "white",
            "showbackground": true,
            "ticks": "",
            "zerolinecolor": "white"
           },
           "yaxis": {
            "backgroundcolor": "#E5ECF6",
            "gridcolor": "white",
            "gridwidth": 2,
            "linecolor": "white",
            "showbackground": true,
            "ticks": "",
            "zerolinecolor": "white"
           },
           "zaxis": {
            "backgroundcolor": "#E5ECF6",
            "gridcolor": "white",
            "gridwidth": 2,
            "linecolor": "white",
            "showbackground": true,
            "ticks": "",
            "zerolinecolor": "white"
           }
          },
          "shapedefaults": {
           "line": {
            "color": "#2a3f5f"
           }
          },
          "ternary": {
           "aaxis": {
            "gridcolor": "white",
            "linecolor": "white",
            "ticks": ""
           },
           "baxis": {
            "gridcolor": "white",
            "linecolor": "white",
            "ticks": ""
           },
           "bgcolor": "#E5ECF6",
           "caxis": {
            "gridcolor": "white",
            "linecolor": "white",
            "ticks": ""
           }
          },
          "title": {
           "x": 0.05
          },
          "xaxis": {
           "automargin": true,
           "gridcolor": "white",
           "linecolor": "white",
           "ticks": "",
           "title": {
            "standoff": 15
           },
           "zerolinecolor": "white",
           "zerolinewidth": 2
          },
          "yaxis": {
           "automargin": true,
           "gridcolor": "white",
           "linecolor": "white",
           "ticks": "",
           "title": {
            "standoff": 15
           },
           "zerolinecolor": "white",
           "zerolinewidth": 2
          }
         }
        },
        "xaxis": {
         "dtick": 1,
         "gridcolor": "rgb(0, 0, 0)",
         "side": "top",
         "ticks": ""
        },
        "yaxis": {
         "dtick": 1,
         "ticks": "",
         "ticksuffix": "  "
        }
       }
      },
      "text/html": [
       "<div>                            <div id=\"be297469-abe8-47d2-a1e8-cd8dd5fb58cf\" class=\"plotly-graph-div\" style=\"height:525px; width:100%;\"></div>            <script type=\"text/javascript\">                require([\"plotly\"], function(Plotly) {                    window.PLOTLYENV=window.PLOTLYENV || {};                                    if (document.getElementById(\"be297469-abe8-47d2-a1e8-cd8dd5fb58cf\")) {                    Plotly.newPlot(                        \"be297469-abe8-47d2-a1e8-cd8dd5fb58cf\",                        [{\"colorscale\": [[0.0, \"rgb(12,51,131)\"], [0.25, \"rgb(10,136,186)\"], [0.5, \"rgb(242,211,56)\"], [0.75, \"rgb(242,143,56)\"], [1.0, \"rgb(217,30,30)\"]], \"reversescale\": false, \"showscale\": true, \"type\": \"heatmap\", \"x\": [\"review/appearance\", \"review/aroma\", \"review/palate\", \"review/taste\", \"review/overall\"], \"y\": [\"review/appearance\", \"review/aroma\", \"review/palate\", \"review/taste\", \"review/overall\"], \"z\": [[1.0, 0.5232966852610188, 0.5387321449574258, 0.5108607808047437, 0.4669076265086169], [0.5232966852610188, 1.0, 0.5932801215525204, 0.7009166692864212, 0.5965340775908462], [0.5387321449574258, 0.5932801215525204, 1.0, 0.7142065027795105, 0.676875351820133], [0.5108607808047437, 0.7009166692864212, 0.7142065027795105, 1.0, 0.770479440154428], [0.4669076265086169, 0.5965340775908462, 0.676875351820133, 0.770479440154428, 1.0]]}],                        {\"annotations\": [{\"font\": {\"color\": \"white\"}, \"showarrow\": false, \"text\": \"1.0\", \"x\": \"review/appearance\", \"xref\": \"x\", \"y\": \"review/appearance\", \"yref\": \"y\"}, {\"font\": {\"color\": \"white\"}, \"showarrow\": false, \"text\": \"0.52\", \"x\": \"review/aroma\", \"xref\": \"x\", \"y\": \"review/appearance\", \"yref\": \"y\"}, {\"font\": {\"color\": \"white\"}, \"showarrow\": false, \"text\": \"0.54\", \"x\": \"review/palate\", \"xref\": \"x\", \"y\": \"review/appearance\", \"yref\": \"y\"}, {\"font\": {\"color\": \"white\"}, \"showarrow\": false, \"text\": \"0.51\", \"x\": \"review/taste\", \"xref\": \"x\", \"y\": \"review/appearance\", \"yref\": \"y\"}, {\"font\": {\"color\": \"white\"}, \"showarrow\": false, \"text\": \"0.47\", \"x\": \"review/overall\", \"xref\": \"x\", \"y\": \"review/appearance\", \"yref\": \"y\"}, {\"font\": {\"color\": \"white\"}, \"showarrow\": false, \"text\": \"0.52\", \"x\": \"review/appearance\", \"xref\": \"x\", \"y\": \"review/aroma\", \"yref\": \"y\"}, {\"font\": {\"color\": \"white\"}, \"showarrow\": false, \"text\": \"1.0\", \"x\": \"review/aroma\", \"xref\": \"x\", \"y\": \"review/aroma\", \"yref\": \"y\"}, {\"font\": {\"color\": \"white\"}, \"showarrow\": false, \"text\": \"0.59\", \"x\": \"review/palate\", \"xref\": \"x\", \"y\": \"review/aroma\", \"yref\": \"y\"}, {\"font\": {\"color\": \"white\"}, \"showarrow\": false, \"text\": \"0.7\", \"x\": \"review/taste\", \"xref\": \"x\", \"y\": \"review/aroma\", \"yref\": \"y\"}, {\"font\": {\"color\": \"white\"}, \"showarrow\": false, \"text\": \"0.6\", \"x\": \"review/overall\", \"xref\": \"x\", \"y\": \"review/aroma\", \"yref\": \"y\"}, {\"font\": {\"color\": \"white\"}, \"showarrow\": false, \"text\": \"0.54\", \"x\": \"review/appearance\", \"xref\": \"x\", \"y\": \"review/palate\", \"yref\": \"y\"}, {\"font\": {\"color\": \"white\"}, \"showarrow\": false, \"text\": \"0.59\", \"x\": \"review/aroma\", \"xref\": \"x\", \"y\": \"review/palate\", \"yref\": \"y\"}, {\"font\": {\"color\": \"white\"}, \"showarrow\": false, \"text\": \"1.0\", \"x\": \"review/palate\", \"xref\": \"x\", \"y\": \"review/palate\", \"yref\": \"y\"}, {\"font\": {\"color\": \"white\"}, \"showarrow\": false, \"text\": \"0.71\", \"x\": \"review/taste\", \"xref\": \"x\", \"y\": \"review/palate\", \"yref\": \"y\"}, {\"font\": {\"color\": \"white\"}, \"showarrow\": false, \"text\": \"0.68\", \"x\": \"review/overall\", \"xref\": \"x\", \"y\": \"review/palate\", \"yref\": \"y\"}, {\"font\": {\"color\": \"white\"}, \"showarrow\": false, \"text\": \"0.51\", \"x\": \"review/appearance\", \"xref\": \"x\", \"y\": \"review/taste\", \"yref\": \"y\"}, {\"font\": {\"color\": \"white\"}, \"showarrow\": false, \"text\": \"0.7\", \"x\": \"review/aroma\", \"xref\": \"x\", \"y\": \"review/taste\", \"yref\": \"y\"}, {\"font\": {\"color\": \"white\"}, \"showarrow\": false, \"text\": \"0.71\", \"x\": \"review/palate\", \"xref\": \"x\", \"y\": \"review/taste\", \"yref\": \"y\"}, {\"font\": {\"color\": \"white\"}, \"showarrow\": false, \"text\": \"1.0\", \"x\": \"review/taste\", \"xref\": \"x\", \"y\": \"review/taste\", \"yref\": \"y\"}, {\"font\": {\"color\": \"white\"}, \"showarrow\": false, \"text\": \"0.77\", \"x\": \"review/overall\", \"xref\": \"x\", \"y\": \"review/taste\", \"yref\": \"y\"}, {\"font\": {\"color\": \"white\"}, \"showarrow\": false, \"text\": \"0.47\", \"x\": \"review/appearance\", \"xref\": \"x\", \"y\": \"review/overall\", \"yref\": \"y\"}, {\"font\": {\"color\": \"white\"}, \"showarrow\": false, \"text\": \"0.6\", \"x\": \"review/aroma\", \"xref\": \"x\", \"y\": \"review/overall\", \"yref\": \"y\"}, {\"font\": {\"color\": \"white\"}, \"showarrow\": false, \"text\": \"0.68\", \"x\": \"review/palate\", \"xref\": \"x\", \"y\": \"review/overall\", \"yref\": \"y\"}, {\"font\": {\"color\": \"white\"}, \"showarrow\": false, \"text\": \"0.77\", \"x\": \"review/taste\", \"xref\": \"x\", \"y\": \"review/overall\", \"yref\": \"y\"}, {\"font\": {\"color\": \"white\"}, \"showarrow\": false, \"text\": \"1.0\", \"x\": \"review/overall\", \"xref\": \"x\", \"y\": \"review/overall\", \"yref\": \"y\"}], \"template\": {\"data\": {\"bar\": [{\"error_x\": {\"color\": \"#2a3f5f\"}, \"error_y\": {\"color\": \"#2a3f5f\"}, \"marker\": {\"line\": {\"color\": \"#E5ECF6\", \"width\": 0.5}}, \"type\": \"bar\"}], \"barpolar\": [{\"marker\": {\"line\": {\"color\": \"#E5ECF6\", \"width\": 0.5}}, \"type\": \"barpolar\"}], \"carpet\": [{\"aaxis\": {\"endlinecolor\": \"#2a3f5f\", \"gridcolor\": \"white\", \"linecolor\": \"white\", \"minorgridcolor\": \"white\", \"startlinecolor\": \"#2a3f5f\"}, \"baxis\": {\"endlinecolor\": \"#2a3f5f\", \"gridcolor\": \"white\", \"linecolor\": \"white\", \"minorgridcolor\": \"white\", \"startlinecolor\": \"#2a3f5f\"}, \"type\": \"carpet\"}], \"choropleth\": [{\"colorbar\": {\"outlinewidth\": 0, \"ticks\": \"\"}, \"type\": \"choropleth\"}], \"contour\": [{\"colorbar\": {\"outlinewidth\": 0, \"ticks\": \"\"}, \"colorscale\": [[0.0, \"#0d0887\"], [0.1111111111111111, \"#46039f\"], [0.2222222222222222, \"#7201a8\"], [0.3333333333333333, \"#9c179e\"], [0.4444444444444444, \"#bd3786\"], [0.5555555555555556, \"#d8576b\"], [0.6666666666666666, \"#ed7953\"], [0.7777777777777778, \"#fb9f3a\"], [0.8888888888888888, \"#fdca26\"], [1.0, \"#f0f921\"]], \"type\": \"contour\"}], \"contourcarpet\": [{\"colorbar\": {\"outlinewidth\": 0, \"ticks\": \"\"}, \"type\": \"contourcarpet\"}], \"heatmap\": [{\"colorbar\": {\"outlinewidth\": 0, \"ticks\": \"\"}, \"colorscale\": [[0.0, \"#0d0887\"], [0.1111111111111111, \"#46039f\"], [0.2222222222222222, \"#7201a8\"], [0.3333333333333333, \"#9c179e\"], [0.4444444444444444, \"#bd3786\"], [0.5555555555555556, \"#d8576b\"], [0.6666666666666666, \"#ed7953\"], [0.7777777777777778, \"#fb9f3a\"], [0.8888888888888888, \"#fdca26\"], [1.0, \"#f0f921\"]], \"type\": \"heatmap\"}], \"heatmapgl\": [{\"colorbar\": {\"outlinewidth\": 0, \"ticks\": \"\"}, \"colorscale\": [[0.0, \"#0d0887\"], [0.1111111111111111, \"#46039f\"], [0.2222222222222222, \"#7201a8\"], [0.3333333333333333, \"#9c179e\"], [0.4444444444444444, \"#bd3786\"], [0.5555555555555556, \"#d8576b\"], [0.6666666666666666, \"#ed7953\"], [0.7777777777777778, \"#fb9f3a\"], [0.8888888888888888, \"#fdca26\"], [1.0, \"#f0f921\"]], \"type\": \"heatmapgl\"}], \"histogram\": [{\"marker\": {\"colorbar\": {\"outlinewidth\": 0, \"ticks\": \"\"}}, \"type\": \"histogram\"}], \"histogram2d\": [{\"colorbar\": {\"outlinewidth\": 0, \"ticks\": \"\"}, \"colorscale\": [[0.0, \"#0d0887\"], [0.1111111111111111, \"#46039f\"], [0.2222222222222222, \"#7201a8\"], [0.3333333333333333, \"#9c179e\"], [0.4444444444444444, \"#bd3786\"], [0.5555555555555556, \"#d8576b\"], [0.6666666666666666, \"#ed7953\"], [0.7777777777777778, \"#fb9f3a\"], [0.8888888888888888, \"#fdca26\"], [1.0, \"#f0f921\"]], \"type\": \"histogram2d\"}], \"histogram2dcontour\": [{\"colorbar\": {\"outlinewidth\": 0, \"ticks\": \"\"}, \"colorscale\": [[0.0, \"#0d0887\"], [0.1111111111111111, \"#46039f\"], [0.2222222222222222, \"#7201a8\"], [0.3333333333333333, \"#9c179e\"], [0.4444444444444444, \"#bd3786\"], [0.5555555555555556, \"#d8576b\"], [0.6666666666666666, \"#ed7953\"], [0.7777777777777778, \"#fb9f3a\"], [0.8888888888888888, \"#fdca26\"], [1.0, \"#f0f921\"]], \"type\": \"histogram2dcontour\"}], \"mesh3d\": [{\"colorbar\": {\"outlinewidth\": 0, \"ticks\": \"\"}, \"type\": \"mesh3d\"}], \"parcoords\": [{\"line\": {\"colorbar\": {\"outlinewidth\": 0, \"ticks\": \"\"}}, \"type\": \"parcoords\"}], \"pie\": [{\"automargin\": true, \"type\": \"pie\"}], \"scatter\": [{\"marker\": {\"colorbar\": {\"outlinewidth\": 0, \"ticks\": \"\"}}, \"type\": \"scatter\"}], \"scatter3d\": [{\"line\": {\"colorbar\": {\"outlinewidth\": 0, \"ticks\": \"\"}}, \"marker\": {\"colorbar\": {\"outlinewidth\": 0, \"ticks\": \"\"}}, \"type\": \"scatter3d\"}], \"scattercarpet\": [{\"marker\": {\"colorbar\": {\"outlinewidth\": 0, \"ticks\": \"\"}}, \"type\": \"scattercarpet\"}], \"scattergeo\": [{\"marker\": {\"colorbar\": {\"outlinewidth\": 0, \"ticks\": \"\"}}, \"type\": \"scattergeo\"}], \"scattergl\": [{\"marker\": {\"colorbar\": {\"outlinewidth\": 0, \"ticks\": \"\"}}, \"type\": \"scattergl\"}], \"scattermapbox\": [{\"marker\": {\"colorbar\": {\"outlinewidth\": 0, \"ticks\": \"\"}}, \"type\": \"scattermapbox\"}], \"scatterpolar\": [{\"marker\": {\"colorbar\": {\"outlinewidth\": 0, \"ticks\": \"\"}}, \"type\": \"scatterpolar\"}], \"scatterpolargl\": [{\"marker\": {\"colorbar\": {\"outlinewidth\": 0, \"ticks\": \"\"}}, \"type\": \"scatterpolargl\"}], \"scatterternary\": [{\"marker\": {\"colorbar\": {\"outlinewidth\": 0, \"ticks\": \"\"}}, \"type\": \"scatterternary\"}], \"surface\": [{\"colorbar\": {\"outlinewidth\": 0, \"ticks\": \"\"}, \"colorscale\": [[0.0, \"#0d0887\"], [0.1111111111111111, \"#46039f\"], [0.2222222222222222, \"#7201a8\"], [0.3333333333333333, \"#9c179e\"], [0.4444444444444444, \"#bd3786\"], [0.5555555555555556, \"#d8576b\"], [0.6666666666666666, \"#ed7953\"], [0.7777777777777778, \"#fb9f3a\"], [0.8888888888888888, \"#fdca26\"], [1.0, \"#f0f921\"]], \"type\": \"surface\"}], \"table\": [{\"cells\": {\"fill\": {\"color\": \"#EBF0F8\"}, \"line\": {\"color\": \"white\"}}, \"header\": {\"fill\": {\"color\": \"#C8D4E3\"}, \"line\": {\"color\": \"white\"}}, \"type\": \"table\"}]}, \"layout\": {\"annotationdefaults\": {\"arrowcolor\": \"#2a3f5f\", \"arrowhead\": 0, \"arrowwidth\": 1}, \"coloraxis\": {\"colorbar\": {\"outlinewidth\": 0, \"ticks\": \"\"}}, \"colorscale\": {\"diverging\": [[0, \"#8e0152\"], [0.1, \"#c51b7d\"], [0.2, \"#de77ae\"], [0.3, \"#f1b6da\"], [0.4, \"#fde0ef\"], [0.5, \"#f7f7f7\"], [0.6, \"#e6f5d0\"], [0.7, \"#b8e186\"], [0.8, \"#7fbc41\"], [0.9, \"#4d9221\"], [1, \"#276419\"]], \"sequential\": [[0.0, \"#0d0887\"], [0.1111111111111111, \"#46039f\"], [0.2222222222222222, \"#7201a8\"], [0.3333333333333333, \"#9c179e\"], [0.4444444444444444, \"#bd3786\"], [0.5555555555555556, \"#d8576b\"], [0.6666666666666666, \"#ed7953\"], [0.7777777777777778, \"#fb9f3a\"], [0.8888888888888888, \"#fdca26\"], [1.0, \"#f0f921\"]], \"sequentialminus\": [[0.0, \"#0d0887\"], [0.1111111111111111, \"#46039f\"], [0.2222222222222222, \"#7201a8\"], [0.3333333333333333, \"#9c179e\"], [0.4444444444444444, \"#bd3786\"], [0.5555555555555556, \"#d8576b\"], [0.6666666666666666, \"#ed7953\"], [0.7777777777777778, \"#fb9f3a\"], [0.8888888888888888, \"#fdca26\"], [1.0, \"#f0f921\"]]}, \"colorway\": [\"#636efa\", \"#EF553B\", \"#00cc96\", \"#ab63fa\", \"#FFA15A\", \"#19d3f3\", \"#FF6692\", \"#B6E880\", \"#FF97FF\", \"#FECB52\"], \"font\": {\"color\": \"#2a3f5f\"}, \"geo\": {\"bgcolor\": \"white\", \"lakecolor\": \"white\", \"landcolor\": \"#E5ECF6\", \"showlakes\": true, \"showland\": true, \"subunitcolor\": \"white\"}, \"hoverlabel\": {\"align\": \"left\"}, \"hovermode\": \"closest\", \"mapbox\": {\"style\": \"light\"}, \"paper_bgcolor\": \"white\", \"plot_bgcolor\": \"#E5ECF6\", \"polar\": {\"angularaxis\": {\"gridcolor\": \"white\", \"linecolor\": \"white\", \"ticks\": \"\"}, \"bgcolor\": \"#E5ECF6\", \"radialaxis\": {\"gridcolor\": \"white\", \"linecolor\": \"white\", \"ticks\": \"\"}}, \"scene\": {\"xaxis\": {\"backgroundcolor\": \"#E5ECF6\", \"gridcolor\": \"white\", \"gridwidth\": 2, \"linecolor\": \"white\", \"showbackground\": true, \"ticks\": \"\", \"zerolinecolor\": \"white\"}, \"yaxis\": {\"backgroundcolor\": \"#E5ECF6\", \"gridcolor\": \"white\", \"gridwidth\": 2, \"linecolor\": \"white\", \"showbackground\": true, \"ticks\": \"\", \"zerolinecolor\": \"white\"}, \"zaxis\": {\"backgroundcolor\": \"#E5ECF6\", \"gridcolor\": \"white\", \"gridwidth\": 2, \"linecolor\": \"white\", \"showbackground\": true, \"ticks\": \"\", \"zerolinecolor\": \"white\"}}, \"shapedefaults\": {\"line\": {\"color\": \"#2a3f5f\"}}, \"ternary\": {\"aaxis\": {\"gridcolor\": \"white\", \"linecolor\": \"white\", \"ticks\": \"\"}, \"baxis\": {\"gridcolor\": \"white\", \"linecolor\": \"white\", \"ticks\": \"\"}, \"bgcolor\": \"#E5ECF6\", \"caxis\": {\"gridcolor\": \"white\", \"linecolor\": \"white\", \"ticks\": \"\"}}, \"title\": {\"x\": 0.05}, \"xaxis\": {\"automargin\": true, \"gridcolor\": \"white\", \"linecolor\": \"white\", \"ticks\": \"\", \"title\": {\"standoff\": 15}, \"zerolinecolor\": \"white\", \"zerolinewidth\": 2}, \"yaxis\": {\"automargin\": true, \"gridcolor\": \"white\", \"linecolor\": \"white\", \"ticks\": \"\", \"title\": {\"standoff\": 15}, \"zerolinecolor\": \"white\", \"zerolinewidth\": 2}}}, \"xaxis\": {\"dtick\": 1, \"gridcolor\": \"rgb(0, 0, 0)\", \"side\": \"top\", \"ticks\": \"\"}, \"yaxis\": {\"dtick\": 1, \"ticks\": \"\", \"ticksuffix\": \"  \"}},                        {\"responsive\": true}                    ).then(function(){\n",
       "                            \n",
       "var gd = document.getElementById('be297469-abe8-47d2-a1e8-cd8dd5fb58cf');\n",
       "var x = new MutationObserver(function (mutations, observer) {{\n",
       "        var display = window.getComputedStyle(gd).display;\n",
       "        if (!display || display === 'none') {{\n",
       "            console.log([gd, 'removed!']);\n",
       "            Plotly.purge(gd);\n",
       "            observer.disconnect();\n",
       "        }}\n",
       "}});\n",
       "\n",
       "// Listen for the removal of the full notebook cells\n",
       "var notebookContainer = gd.closest('#notebook-container');\n",
       "if (notebookContainer) {{\n",
       "    x.observe(notebookContainer, {childList: true});\n",
       "}}\n",
       "\n",
       "// Listen for the clearing of the current output cell\n",
       "var outputEl = gd.closest('.output');\n",
       "if (outputEl) {{\n",
       "    x.observe(outputEl, {childList: true});\n",
       "}}\n",
       "\n",
       "                        })                };                });            </script>        </div>"
      ]
     },
     "metadata": {},
     "output_type": "display_data"
    }
   ],
   "source": [
    "# Method 2 - Heatmap: Plotly\n",
    "heat_map_plotly = ff.create_annotated_heatmap(\n",
    "    z=corr_metrics.values,\n",
    "    x=list(corr_metrics.columns),\n",
    "    y=list(corr_metrics.index),\n",
    "    annotation_text=corr_metrics.round(2).values,\n",
    "    showscale=True,\n",
    "    colorscale='Portland',\n",
    "    font_colors=['white','white'])\n",
    "\n",
    "layout = go.Layout(title=\"Correlation Heatmap\",\n",
    "                   margin = dict(l = 330))\n",
    "\n",
    "fig = go.Figure(data=heat_map_plotly, layout=layout)\n",
    "py.offline.iplot(fig)"
   ]
  },
  {
   "cell_type": "markdown",
   "metadata": {},
   "source": [
    "# Feature Scaling"
   ]
  },
  {
   "cell_type": "markdown",
   "metadata": {},
   "source": [
    "# PCA\n",
    "Although PCA is used mainly for dimensionality reduction, it can also be used to see how many variables explain a given amount of variance."
   ]
  },
  {
   "cell_type": "code",
   "execution_count": 80,
   "metadata": {},
   "outputs": [
    {
     "data": {
      "image/png": "[encoded data removed]",
      "text/plain": [
       "<Figure size 432x288 with 1 Axes>"
      ]
     },
     "metadata": {},
     "output_type": "display_data"
    },
    {
     "name": "stdout",
     "output_type": "stream",
     "text": [
      "[0.69959109 0.13668231 0.10171172 0.06201488]\n"
     ]
    }
   ],
   "source": [
    "# Normalization\n",
    "# Define our features \n",
    "factors = [\"review/appearance\",\"review/aroma\",\"review/palate\",\"review/taste\"]\n",
    "features = reviews[factors]\n",
    "\n",
    "# Define our labels\n",
    "labels = reviews['review/overall']\n",
    "\n",
    "# Import the StandardScaler\n",
    "from sklearn.preprocessing import StandardScaler\n",
    "\n",
    "# Scale the features and set the values to a new variable\n",
    "scaler = StandardScaler()\n",
    "scaled_train_features = scaler.fit_transform(features)\n",
    "\n",
    "# Note the five features\n",
    "#print(features.head())\n",
    "\n",
    "# Note that scaled_train_features are arrays\n",
    "#print(scaled_train_features)\n",
    "\n",
    "# Import PCA class\n",
    "from sklearn.decomposition import PCA\n",
    "\n",
    "# Get our explained variance ratios from PCA using all features\n",
    "pca = PCA()\n",
    "pca.fit(scaled_train_features)\n",
    "exp_variance = pca.explained_variance_ratio_\n",
    "\n",
    "# plot the explained variance using a barplot\n",
    "fig, ax = plt.subplots()\n",
    "ax.bar(range(1, 5), exp_variance) # Use the number of features \n",
    "ax.set_xlabel('Principal Components')\n",
    "ax.set_title('Explained Variance by # of Principal Components')\n",
    "ax.set_ylabel('Explained Variance')\n",
    "plt.show()\n",
    "print(pca.explained_variance_ratio_)"
   ]
  },
  {
   "cell_type": "code",
   "execution_count": 81,
   "metadata": {},
   "outputs": [
    {
     "data": {
      "image/png": "[encoded data removed]",
      "text/plain": [
       "<Figure size 432x288 with 1 Axes>"
      ]
     },
     "metadata": {},
     "output_type": "display_data"
    }
   ],
   "source": [
    "# Calculate the cumulative explained variance\n",
    "cum_exp_variance = np.cumsum(exp_variance)\n",
    "\n",
    "# Plot the cumulative explained variance and draw a dashed line at 0.90.\n",
    "fig, ax = plt.subplots()\n",
    "ax.plot(range(1, 5), cum_exp_variance)\n",
    "ax.axhline(y=0.9, linestyle='--')\n",
    "plt.title('Cumulative Explained Variance by # of Principal Components')\n",
    "plt.show()"
   ]
  },
  {
   "cell_type": "code",
   "execution_count": 46,
   "metadata": {},
   "outputs": [
    {
     "data": {
      "application/vnd.plotly.v1+json": {
       "config": {
        "linkText": "Export to plot.ly",
        "plotlyServerURL": "https://plot.ly",
        "showLink": false
       },
       "data": [
        {
         "marker": {
          "color": "rgb(1, 87, 155)"
         },
         "name": "Individual",
         "opacity": 0.7,
         "type": "bar",
         "x": [
          "PC 1",
          "PC 2",
          "PC 3",
          "PC 4",
          "PC 5"
         ],
         "y": [
          0.6995910857195634,
          0.13668231160059463,
          0.10171172196807822,
          0.06201488071176365
         ]
        },
        {
         "marker": {
          "color": "rgb(255, 82, 82)"
         },
         "name": "Cumulative",
         "type": "scatter",
         "x": [
          "PC 1",
          "PC 2",
          "PC 3",
          "PC 4",
          "PC 5"
         ],
         "y": [
          0.6995910857195634,
          0.836273397320158,
          0.9379851192882362,
          0.9999999999999999
         ]
        }
       ],
       "layout": {
        "annotations": [
         {
          "showarrow": false,
          "text": "Explained Variance",
          "x": 1.16,
          "xref": "paper",
          "y": 1.05,
          "yref": "paper"
         }
        ],
        "font": {
         "color": "dark gray",
         "family": "Courier New, monospace"
        },
        "margin": {
         "r": 200
        },
        "template": {
         "data": {
          "bar": [
           {
            "error_x": {
             "color": "#2a3f5f"
            },
            "error_y": {
             "color": "#2a3f5f"
            },
            "marker": {
             "line": {
              "color": "#E5ECF6",
              "width": 0.5
             }
            },
            "type": "bar"
           }
          ],
          "barpolar": [
           {
            "marker": {
             "line": {
              "color": "#E5ECF6",
              "width": 0.5
             }
            },
            "type": "barpolar"
           }
          ],
          "carpet": [
           {
            "aaxis": {
             "endlinecolor": "#2a3f5f",
             "gridcolor": "white",
             "linecolor": "white",
             "minorgridcolor": "white",
             "startlinecolor": "#2a3f5f"
            },
            "baxis": {
             "endlinecolor": "#2a3f5f",
             "gridcolor": "white",
             "linecolor": "white",
             "minorgridcolor": "white",
             "startlinecolor": "#2a3f5f"
            },
            "type": "carpet"
           }
          ],
          "choropleth": [
           {
            "colorbar": {
             "outlinewidth": 0,
             "ticks": ""
            },
            "type": "choropleth"
           }
          ],
          "contour": [
           {
            "colorbar": {
             "outlinewidth": 0,
             "ticks": ""
            },
            "colorscale": [
             [
              0,
              "#0d0887"
             ],
             [
              0.1111111111111111,
              "#46039f"
             ],
             [
              0.2222222222222222,
              "#7201a8"
             ],
             [
              0.3333333333333333,
              "#9c179e"
             ],
             [
              0.4444444444444444,
              "#bd3786"
             ],
             [
              0.5555555555555556,
              "#d8576b"
             ],
             [
              0.6666666666666666,
              "#ed7953"
             ],
             [
              0.7777777777777778,
              "#fb9f3a"
             ],
             [
              0.8888888888888888,
              "#fdca26"
             ],
             [
              1,
              "#f0f921"
             ]
            ],
            "type": "contour"
           }
          ],
          "contourcarpet": [
           {
            "colorbar": {
             "outlinewidth": 0,
             "ticks": ""
            },
            "type": "contourcarpet"
           }
          ],
          "heatmap": [
           {
            "colorbar": {
             "outlinewidth": 0,
             "ticks": ""
            },
            "colorscale": [
             [
              0,
              "#0d0887"
             ],
             [
              0.1111111111111111,
              "#46039f"
             ],
             [
              0.2222222222222222,
              "#7201a8"
             ],
             [
              0.3333333333333333,
              "#9c179e"
             ],
             [
              0.4444444444444444,
              "#bd3786"
             ],
             [
              0.5555555555555556,
              "#d8576b"
             ],
             [
              0.6666666666666666,
              "#ed7953"
             ],
             [
              0.7777777777777778,
              "#fb9f3a"
             ],
             [
              0.8888888888888888,
              "#fdca26"
             ],
             [
              1,
              "#f0f921"
             ]
            ],
            "type": "heatmap"
           }
          ],
          "heatmapgl": [
           {
            "colorbar": {
             "outlinewidth": 0,
             "ticks": ""
            },
            "colorscale": [
             [
              0,
              "#0d0887"
             ],
             [
              0.1111111111111111,
              "#46039f"
             ],
             [
              0.2222222222222222,
              "#7201a8"
             ],
             [
              0.3333333333333333,
              "#9c179e"
             ],
             [
              0.4444444444444444,
              "#bd3786"
             ],
             [
              0.5555555555555556,
              "#d8576b"
             ],
             [
              0.6666666666666666,
              "#ed7953"
             ],
             [
              0.7777777777777778,
              "#fb9f3a"
             ],
             [
              0.8888888888888888,
              "#fdca26"
             ],
             [
              1,
              "#f0f921"
             ]
            ],
            "type": "heatmapgl"
           }
          ],
          "histogram": [
           {
            "marker": {
             "colorbar": {
              "outlinewidth": 0,
              "ticks": ""
             }
            },
            "type": "histogram"
           }
          ],
          "histogram2d": [
           {
            "colorbar": {
             "outlinewidth": 0,
             "ticks": ""
            },
            "colorscale": [
             [
              0,
              "#0d0887"
             ],
             [
              0.1111111111111111,
              "#46039f"
             ],
             [
              0.2222222222222222,
              "#7201a8"
             ],
             [
              0.3333333333333333,
              "#9c179e"
             ],
             [
              0.4444444444444444,
              "#bd3786"
             ],
             [
              0.5555555555555556,
              "#d8576b"
             ],
             [
              0.6666666666666666,
              "#ed7953"
             ],
             [
              0.7777777777777778,
              "#fb9f3a"
             ],
             [
              0.8888888888888888,
              "#fdca26"
             ],
             [
              1,
              "#f0f921"
             ]
            ],
            "type": "histogram2d"
           }
          ],
          "histogram2dcontour": [
           {
            "colorbar": {
             "outlinewidth": 0,
             "ticks": ""
            },
            "colorscale": [
             [
              0,
              "#0d0887"
             ],
             [
              0.1111111111111111,
              "#46039f"
             ],
             [
              0.2222222222222222,
              "#7201a8"
             ],
             [
              0.3333333333333333,
              "#9c179e"
             ],
             [
              0.4444444444444444,
              "#bd3786"
             ],
             [
              0.5555555555555556,
              "#d8576b"
             ],
             [
              0.6666666666666666,
              "#ed7953"
             ],
             [
              0.7777777777777778,
              "#fb9f3a"
             ],
             [
              0.8888888888888888,
              "#fdca26"
             ],
             [
              1,
              "#f0f921"
             ]
            ],
            "type": "histogram2dcontour"
           }
          ],
          "mesh3d": [
           {
            "colorbar": {
             "outlinewidth": 0,
             "ticks": ""
            },
            "type": "mesh3d"
           }
          ],
          "parcoords": [
           {
            "line": {
             "colorbar": {
              "outlinewidth": 0,
              "ticks": ""
             }
            },
            "type": "parcoords"
           }
          ],
          "pie": [
           {
            "automargin": true,
            "type": "pie"
           }
          ],
          "scatter": [
           {
            "marker": {
             "colorbar": {
              "outlinewidth": 0,
              "ticks": ""
             }
            },
            "type": "scatter"
           }
          ],
          "scatter3d": [
           {
            "line": {
             "colorbar": {
              "outlinewidth": 0,
              "ticks": ""
             }
            },
            "marker": {
             "colorbar": {
              "outlinewidth": 0,
              "ticks": ""
             }
            },
            "type": "scatter3d"
           }
          ],
          "scattercarpet": [
           {
            "marker": {
             "colorbar": {
              "outlinewidth": 0,
              "ticks": ""
             }
            },
            "type": "scattercarpet"
           }
          ],
          "scattergeo": [
           {
            "marker": {
             "colorbar": {
              "outlinewidth": 0,
              "ticks": ""
             }
            },
            "type": "scattergeo"
           }
          ],
          "scattergl": [
           {
            "marker": {
             "colorbar": {
              "outlinewidth": 0,
              "ticks": ""
             }
            },
            "type": "scattergl"
           }
          ],
          "scattermapbox": [
           {
            "marker": {
             "colorbar": {
              "outlinewidth": 0,
              "ticks": ""
             }
            },
            "type": "scattermapbox"
           }
          ],
          "scatterpolar": [
           {
            "marker": {
             "colorbar": {
              "outlinewidth": 0,
              "ticks": ""
             }
            },
            "type": "scatterpolar"
           }
          ],
          "scatterpolargl": [
           {
            "marker": {
             "colorbar": {
              "outlinewidth": 0,
              "ticks": ""
             }
            },
            "type": "scatterpolargl"
           }
          ],
          "scatterternary": [
           {
            "marker": {
             "colorbar": {
              "outlinewidth": 0,
              "ticks": ""
             }
            },
            "type": "scatterternary"
           }
          ],
          "surface": [
           {
            "colorbar": {
             "outlinewidth": 0,
             "ticks": ""
            },
            "colorscale": [
             [
              0,
              "#0d0887"
             ],
             [
              0.1111111111111111,
              "#46039f"
             ],
             [
              0.2222222222222222,
              "#7201a8"
             ],
             [
              0.3333333333333333,
              "#9c179e"
             ],
             [
              0.4444444444444444,
              "#bd3786"
             ],
             [
              0.5555555555555556,
              "#d8576b"
             ],
             [
              0.6666666666666666,
              "#ed7953"
             ],
             [
              0.7777777777777778,
              "#fb9f3a"
             ],
             [
              0.8888888888888888,
              "#fdca26"
             ],
             [
              1,
              "#f0f921"
             ]
            ],
            "type": "surface"
           }
          ],
          "table": [
           {
            "cells": {
             "fill": {
              "color": "#EBF0F8"
             },
             "line": {
              "color": "white"
             }
            },
            "header": {
             "fill": {
              "color": "#C8D4E3"
             },
             "line": {
              "color": "white"
             }
            },
            "type": "table"
           }
          ]
         },
         "layout": {
          "annotationdefaults": {
           "arrowcolor": "#2a3f5f",
           "arrowhead": 0,
           "arrowwidth": 1
          },
          "coloraxis": {
           "colorbar": {
            "outlinewidth": 0,
            "ticks": ""
           }
          },
          "colorscale": {
           "diverging": [
            [
             0,
             "#8e0152"
            ],
            [
             0.1,
             "#c51b7d"
            ],
            [
             0.2,
             "#de77ae"
            ],
            [
             0.3,
             "#f1b6da"
            ],
            [
             0.4,
             "#fde0ef"
            ],
            [
             0.5,
             "#f7f7f7"
            ],
            [
             0.6,
             "#e6f5d0"
            ],
            [
             0.7,
             "#b8e186"
            ],
            [
             0.8,
             "#7fbc41"
            ],
            [
             0.9,
             "#4d9221"
            ],
            [
             1,
             "#276419"
            ]
           ],
           "sequential": [
            [
             0,
             "#0d0887"
            ],
            [
             0.1111111111111111,
             "#46039f"
            ],
            [
             0.2222222222222222,
             "#7201a8"
            ],
            [
             0.3333333333333333,
             "#9c179e"
            ],
            [
             0.4444444444444444,
             "#bd3786"
            ],
            [
             0.5555555555555556,
             "#d8576b"
            ],
            [
             0.6666666666666666,
             "#ed7953"
            ],
            [
             0.7777777777777778,
             "#fb9f3a"
            ],
            [
             0.8888888888888888,
             "#fdca26"
            ],
            [
             1,
             "#f0f921"
            ]
           ],
           "sequentialminus": [
            [
             0,
             "#0d0887"
            ],
            [
             0.1111111111111111,
             "#46039f"
            ],
            [
             0.2222222222222222,
             "#7201a8"
            ],
            [
             0.3333333333333333,
             "#9c179e"
            ],
            [
             0.4444444444444444,
             "#bd3786"
            ],
            [
             0.5555555555555556,
             "#d8576b"
            ],
            [
             0.6666666666666666,
             "#ed7953"
            ],
            [
             0.7777777777777778,
             "#fb9f3a"
            ],
            [
             0.8888888888888888,
             "#fdca26"
            ],
            [
             1,
             "#f0f921"
            ]
           ]
          },
          "colorway": [
           "#636efa",
           "#EF553B",
           "#00cc96",
           "#ab63fa",
           "#FFA15A",
           "#19d3f3",
           "#FF6692",
           "#B6E880",
           "#FF97FF",
           "#FECB52"
          ],
          "font": {
           "color": "#2a3f5f"
          },
          "geo": {
           "bgcolor": "white",
           "lakecolor": "white",
           "landcolor": "#E5ECF6",
           "showlakes": true,
           "showland": true,
           "subunitcolor": "white"
          },
          "hoverlabel": {
           "align": "left"
          },
          "hovermode": "closest",
          "mapbox": {
           "style": "light"
          },
          "paper_bgcolor": "white",
          "plot_bgcolor": "#E5ECF6",
          "polar": {
           "angularaxis": {
            "gridcolor": "white",
            "linecolor": "white",
            "ticks": ""
           },
           "bgcolor": "#E5ECF6",
           "radialaxis": {
            "gridcolor": "white",
            "linecolor": "white",
            "ticks": ""
           }
          },
          "scene": {
           "xaxis": {
            "backgroundcolor": "#E5ECF6",
            "gridcolor": "white",
            "gridwidth": 2,
            "linecolor": "white",
            "showbackground": true,
            "ticks": "",
            "zerolinecolor": "white"
           },
           "yaxis": {
            "backgroundcolor": "#E5ECF6",
            "gridcolor": "white",
            "gridwidth": 2,
            "linecolor": "white",
            "showbackground": true,
            "ticks": "",
            "zerolinecolor": "white"
           },
           "zaxis": {
            "backgroundcolor": "#E5ECF6",
            "gridcolor": "white",
            "gridwidth": 2,
            "linecolor": "white",
            "showbackground": true,
            "ticks": "",
            "zerolinecolor": "white"
           }
          },
          "shapedefaults": {
           "line": {
            "color": "#2a3f5f"
           }
          },
          "ternary": {
           "aaxis": {
            "gridcolor": "white",
            "linecolor": "white",
            "ticks": ""
           },
           "baxis": {
            "gridcolor": "white",
            "linecolor": "white",
            "ticks": ""
           },
           "bgcolor": "#E5ECF6",
           "caxis": {
            "gridcolor": "white",
            "linecolor": "white",
            "ticks": ""
           }
          },
          "title": {
           "x": 0.05
          },
          "xaxis": {
           "automargin": true,
           "gridcolor": "white",
           "linecolor": "white",
           "ticks": "",
           "title": {
            "standoff": 15
           },
           "zerolinecolor": "white",
           "zerolinewidth": 2
          },
          "yaxis": {
           "automargin": true,
           "gridcolor": "white",
           "linecolor": "white",
           "ticks": "",
           "title": {
            "standoff": 15
           },
           "zerolinecolor": "white",
           "zerolinewidth": 2
          }
         }
        },
        "title": {
         "text": "Explained Variance by Number of Principal Components"
        },
        "yaxis": {
         "hoverformat": ".1%",
         "tickformat": "%",
         "title": {
          "text": "Explained Variance"
         }
        }
       }
      },
      "text/html": [
       "<div>                            <div id=\"05ddb711-18c8-45c8-9ea9-1af644edfc6f\" class=\"plotly-graph-div\" style=\"height:525px; width:100%;\"></div>            <script type=\"text/javascript\">                require([\"plotly\"], function(Plotly) {                    window.PLOTLYENV=window.PLOTLYENV || {};                                    if (document.getElementById(\"05ddb711-18c8-45c8-9ea9-1af644edfc6f\")) {                    Plotly.newPlot(                        \"05ddb711-18c8-45c8-9ea9-1af644edfc6f\",                        [{\"marker\": {\"color\": \"rgb(1, 87, 155)\"}, \"name\": \"Individual\", \"opacity\": 0.7, \"type\": \"bar\", \"x\": [\"PC 1\", \"PC 2\", \"PC 3\", \"PC 4\", \"PC 5\"], \"y\": [0.6995910857195634, 0.13668231160059463, 0.10171172196807822, 0.06201488071176365]}, {\"marker\": {\"color\": \"rgb(255, 82, 82)\"}, \"name\": \"Cumulative\", \"type\": \"scatter\", \"x\": [\"PC 1\", \"PC 2\", \"PC 3\", \"PC 4\", \"PC 5\"], \"y\": [0.6995910857195634, 0.836273397320158, 0.9379851192882362, 0.9999999999999999]}],                        {\"annotations\": [{\"showarrow\": false, \"text\": \"Explained Variance\", \"x\": 1.16, \"xref\": \"paper\", \"y\": 1.05, \"yref\": \"paper\"}], \"font\": {\"color\": \"dark gray\", \"family\": \"Courier New, monospace\"}, \"margin\": {\"r\": 200}, \"template\": {\"data\": {\"bar\": [{\"error_x\": {\"color\": \"#2a3f5f\"}, \"error_y\": {\"color\": \"#2a3f5f\"}, \"marker\": {\"line\": {\"color\": \"#E5ECF6\", \"width\": 0.5}}, \"type\": \"bar\"}], \"barpolar\": [{\"marker\": {\"line\": {\"color\": \"#E5ECF6\", \"width\": 0.5}}, \"type\": \"barpolar\"}], \"carpet\": [{\"aaxis\": {\"endlinecolor\": \"#2a3f5f\", \"gridcolor\": \"white\", \"linecolor\": \"white\", \"minorgridcolor\": \"white\", \"startlinecolor\": \"#2a3f5f\"}, \"baxis\": {\"endlinecolor\": \"#2a3f5f\", \"gridcolor\": \"white\", \"linecolor\": \"white\", \"minorgridcolor\": \"white\", \"startlinecolor\": \"#2a3f5f\"}, \"type\": \"carpet\"}], \"choropleth\": [{\"colorbar\": {\"outlinewidth\": 0, \"ticks\": \"\"}, \"type\": \"choropleth\"}], \"contour\": [{\"colorbar\": {\"outlinewidth\": 0, \"ticks\": \"\"}, \"colorscale\": [[0.0, \"#0d0887\"], [0.1111111111111111, \"#46039f\"], [0.2222222222222222, \"#7201a8\"], [0.3333333333333333, \"#9c179e\"], [0.4444444444444444, \"#bd3786\"], [0.5555555555555556, \"#d8576b\"], [0.6666666666666666, \"#ed7953\"], [0.7777777777777778, \"#fb9f3a\"], [0.8888888888888888, \"#fdca26\"], [1.0, \"#f0f921\"]], \"type\": \"contour\"}], \"contourcarpet\": [{\"colorbar\": {\"outlinewidth\": 0, \"ticks\": \"\"}, \"type\": \"contourcarpet\"}], \"heatmap\": [{\"colorbar\": {\"outlinewidth\": 0, \"ticks\": \"\"}, \"colorscale\": [[0.0, \"#0d0887\"], [0.1111111111111111, \"#46039f\"], [0.2222222222222222, \"#7201a8\"], [0.3333333333333333, \"#9c179e\"], [0.4444444444444444, \"#bd3786\"], [0.5555555555555556, \"#d8576b\"], [0.6666666666666666, \"#ed7953\"], [0.7777777777777778, \"#fb9f3a\"], [0.8888888888888888, \"#fdca26\"], [1.0, \"#f0f921\"]], \"type\": \"heatmap\"}], \"heatmapgl\": [{\"colorbar\": {\"outlinewidth\": 0, \"ticks\": \"\"}, \"colorscale\": [[0.0, \"#0d0887\"], [0.1111111111111111, \"#46039f\"], [0.2222222222222222, \"#7201a8\"], [0.3333333333333333, \"#9c179e\"], [0.4444444444444444, \"#bd3786\"], [0.5555555555555556, \"#d8576b\"], [0.6666666666666666, \"#ed7953\"], [0.7777777777777778, \"#fb9f3a\"], [0.8888888888888888, \"#fdca26\"], [1.0, \"#f0f921\"]], \"type\": \"heatmapgl\"}], \"histogram\": [{\"marker\": {\"colorbar\": {\"outlinewidth\": 0, \"ticks\": \"\"}}, \"type\": \"histogram\"}], \"histogram2d\": [{\"colorbar\": {\"outlinewidth\": 0, \"ticks\": \"\"}, \"colorscale\": [[0.0, \"#0d0887\"], [0.1111111111111111, \"#46039f\"], [0.2222222222222222, \"#7201a8\"], [0.3333333333333333, \"#9c179e\"], [0.4444444444444444, \"#bd3786\"], [0.5555555555555556, \"#d8576b\"], [0.6666666666666666, \"#ed7953\"], [0.7777777777777778, \"#fb9f3a\"], [0.8888888888888888, \"#fdca26\"], [1.0, \"#f0f921\"]], \"type\": \"histogram2d\"}], \"histogram2dcontour\": [{\"colorbar\": {\"outlinewidth\": 0, \"ticks\": \"\"}, \"colorscale\": [[0.0, \"#0d0887\"], [0.1111111111111111, \"#46039f\"], [0.2222222222222222, \"#7201a8\"], [0.3333333333333333, \"#9c179e\"], [0.4444444444444444, \"#bd3786\"], [0.5555555555555556, \"#d8576b\"], [0.6666666666666666, \"#ed7953\"], [0.7777777777777778, \"#fb9f3a\"], [0.8888888888888888, \"#fdca26\"], [1.0, \"#f0f921\"]], \"type\": \"histogram2dcontour\"}], \"mesh3d\": [{\"colorbar\": {\"outlinewidth\": 0, \"ticks\": \"\"}, \"type\": \"mesh3d\"}], \"parcoords\": [{\"line\": {\"colorbar\": {\"outlinewidth\": 0, \"ticks\": \"\"}}, \"type\": \"parcoords\"}], \"pie\": [{\"automargin\": true, \"type\": \"pie\"}], \"scatter\": [{\"marker\": {\"colorbar\": {\"outlinewidth\": 0, \"ticks\": \"\"}}, \"type\": \"scatter\"}], \"scatter3d\": [{\"line\": {\"colorbar\": {\"outlinewidth\": 0, \"ticks\": \"\"}}, \"marker\": {\"colorbar\": {\"outlinewidth\": 0, \"ticks\": \"\"}}, \"type\": \"scatter3d\"}], \"scattercarpet\": [{\"marker\": {\"colorbar\": {\"outlinewidth\": 0, \"ticks\": \"\"}}, \"type\": \"scattercarpet\"}], \"scattergeo\": [{\"marker\": {\"colorbar\": {\"outlinewidth\": 0, \"ticks\": \"\"}}, \"type\": \"scattergeo\"}], \"scattergl\": [{\"marker\": {\"colorbar\": {\"outlinewidth\": 0, \"ticks\": \"\"}}, \"type\": \"scattergl\"}], \"scattermapbox\": [{\"marker\": {\"colorbar\": {\"outlinewidth\": 0, \"ticks\": \"\"}}, \"type\": \"scattermapbox\"}], \"scatterpolar\": [{\"marker\": {\"colorbar\": {\"outlinewidth\": 0, \"ticks\": \"\"}}, \"type\": \"scatterpolar\"}], \"scatterpolargl\": [{\"marker\": {\"colorbar\": {\"outlinewidth\": 0, \"ticks\": \"\"}}, \"type\": \"scatterpolargl\"}], \"scatterternary\": [{\"marker\": {\"colorbar\": {\"outlinewidth\": 0, \"ticks\": \"\"}}, \"type\": \"scatterternary\"}], \"surface\": [{\"colorbar\": {\"outlinewidth\": 0, \"ticks\": \"\"}, \"colorscale\": [[0.0, \"#0d0887\"], [0.1111111111111111, \"#46039f\"], [0.2222222222222222, \"#7201a8\"], [0.3333333333333333, \"#9c179e\"], [0.4444444444444444, \"#bd3786\"], [0.5555555555555556, \"#d8576b\"], [0.6666666666666666, \"#ed7953\"], [0.7777777777777778, \"#fb9f3a\"], [0.8888888888888888, \"#fdca26\"], [1.0, \"#f0f921\"]], \"type\": \"surface\"}], \"table\": [{\"cells\": {\"fill\": {\"color\": \"#EBF0F8\"}, \"line\": {\"color\": \"white\"}}, \"header\": {\"fill\": {\"color\": \"#C8D4E3\"}, \"line\": {\"color\": \"white\"}}, \"type\": \"table\"}]}, \"layout\": {\"annotationdefaults\": {\"arrowcolor\": \"#2a3f5f\", \"arrowhead\": 0, \"arrowwidth\": 1}, \"coloraxis\": {\"colorbar\": {\"outlinewidth\": 0, \"ticks\": \"\"}}, \"colorscale\": {\"diverging\": [[0, \"#8e0152\"], [0.1, \"#c51b7d\"], [0.2, \"#de77ae\"], [0.3, \"#f1b6da\"], [0.4, \"#fde0ef\"], [0.5, \"#f7f7f7\"], [0.6, \"#e6f5d0\"], [0.7, \"#b8e186\"], [0.8, \"#7fbc41\"], [0.9, \"#4d9221\"], [1, \"#276419\"]], \"sequential\": [[0.0, \"#0d0887\"], [0.1111111111111111, \"#46039f\"], [0.2222222222222222, \"#7201a8\"], [0.3333333333333333, \"#9c179e\"], [0.4444444444444444, \"#bd3786\"], [0.5555555555555556, \"#d8576b\"], [0.6666666666666666, \"#ed7953\"], [0.7777777777777778, \"#fb9f3a\"], [0.8888888888888888, \"#fdca26\"], [1.0, \"#f0f921\"]], \"sequentialminus\": [[0.0, \"#0d0887\"], [0.1111111111111111, \"#46039f\"], [0.2222222222222222, \"#7201a8\"], [0.3333333333333333, \"#9c179e\"], [0.4444444444444444, \"#bd3786\"], [0.5555555555555556, \"#d8576b\"], [0.6666666666666666, \"#ed7953\"], [0.7777777777777778, \"#fb9f3a\"], [0.8888888888888888, \"#fdca26\"], [1.0, \"#f0f921\"]]}, \"colorway\": [\"#636efa\", \"#EF553B\", \"#00cc96\", \"#ab63fa\", \"#FFA15A\", \"#19d3f3\", \"#FF6692\", \"#B6E880\", \"#FF97FF\", \"#FECB52\"], \"font\": {\"color\": \"#2a3f5f\"}, \"geo\": {\"bgcolor\": \"white\", \"lakecolor\": \"white\", \"landcolor\": \"#E5ECF6\", \"showlakes\": true, \"showland\": true, \"subunitcolor\": \"white\"}, \"hoverlabel\": {\"align\": \"left\"}, \"hovermode\": \"closest\", \"mapbox\": {\"style\": \"light\"}, \"paper_bgcolor\": \"white\", \"plot_bgcolor\": \"#E5ECF6\", \"polar\": {\"angularaxis\": {\"gridcolor\": \"white\", \"linecolor\": \"white\", \"ticks\": \"\"}, \"bgcolor\": \"#E5ECF6\", \"radialaxis\": {\"gridcolor\": \"white\", \"linecolor\": \"white\", \"ticks\": \"\"}}, \"scene\": {\"xaxis\": {\"backgroundcolor\": \"#E5ECF6\", \"gridcolor\": \"white\", \"gridwidth\": 2, \"linecolor\": \"white\", \"showbackground\": true, \"ticks\": \"\", \"zerolinecolor\": \"white\"}, \"yaxis\": {\"backgroundcolor\": \"#E5ECF6\", \"gridcolor\": \"white\", \"gridwidth\": 2, \"linecolor\": \"white\", \"showbackground\": true, \"ticks\": \"\", \"zerolinecolor\": \"white\"}, \"zaxis\": {\"backgroundcolor\": \"#E5ECF6\", \"gridcolor\": \"white\", \"gridwidth\": 2, \"linecolor\": \"white\", \"showbackground\": true, \"ticks\": \"\", \"zerolinecolor\": \"white\"}}, \"shapedefaults\": {\"line\": {\"color\": \"#2a3f5f\"}}, \"ternary\": {\"aaxis\": {\"gridcolor\": \"white\", \"linecolor\": \"white\", \"ticks\": \"\"}, \"baxis\": {\"gridcolor\": \"white\", \"linecolor\": \"white\", \"ticks\": \"\"}, \"bgcolor\": \"#E5ECF6\", \"caxis\": {\"gridcolor\": \"white\", \"linecolor\": \"white\", \"ticks\": \"\"}}, \"title\": {\"x\": 0.05}, \"xaxis\": {\"automargin\": true, \"gridcolor\": \"white\", \"linecolor\": \"white\", \"ticks\": \"\", \"title\": {\"standoff\": 15}, \"zerolinecolor\": \"white\", \"zerolinewidth\": 2}, \"yaxis\": {\"automargin\": true, \"gridcolor\": \"white\", \"linecolor\": \"white\", \"ticks\": \"\", \"title\": {\"standoff\": 15}, \"zerolinecolor\": \"white\", \"zerolinewidth\": 2}}}, \"title\": {\"text\": \"Explained Variance by Number of Principal Components\"}, \"yaxis\": {\"hoverformat\": \".1%\", \"tickformat\": \"%\", \"title\": {\"text\": \"Explained Variance\"}}},                        {\"responsive\": true}                    ).then(function(){\n",
       "                            \n",
       "var gd = document.getElementById('05ddb711-18c8-45c8-9ea9-1af644edfc6f');\n",
       "var x = new MutationObserver(function (mutations, observer) {{\n",
       "        var display = window.getComputedStyle(gd).display;\n",
       "        if (!display || display === 'none') {{\n",
       "            console.log([gd, 'removed!']);\n",
       "            Plotly.purge(gd);\n",
       "            observer.disconnect();\n",
       "        }}\n",
       "}});\n",
       "\n",
       "// Listen for the removal of the full notebook cells\n",
       "var notebookContainer = gd.closest('#notebook-container');\n",
       "if (notebookContainer) {{\n",
       "    x.observe(notebookContainer, {childList: true});\n",
       "}}\n",
       "\n",
       "// Listen for the clearing of the current output cell\n",
       "var outputEl = gd.closest('.output');\n",
       "if (outputEl) {{\n",
       "    x.observe(outputEl, {childList: true});\n",
       "}}\n",
       "\n",
       "                        })                };                });            </script>        </div>"
      ]
     },
     "metadata": {},
     "output_type": "display_data"
    }
   ],
   "source": [
    " #Bar plot \n",
    "p1 = dict(\n",
    "    type='bar',\n",
    "    x=['PC %s' %i for i in range(1,6)],\n",
    "    y=exp_variance,\n",
    "    opacity=0.7, \n",
    "    marker=dict(color='rgb(1, 87, 155)'),\n",
    "    name='Individual'\n",
    ")\n",
    "\n",
    "# Scatter plot\n",
    "p2 = dict(\n",
    "    type='scatter',\n",
    "    x=['PC %s' %i for i in range(1,6)], \n",
    "    y=cum_exp_variance,\n",
    "    marker=dict(color='rgb(255, 82, 82)'),\n",
    "    name='Cumulative'\n",
    ")\n",
    "\n",
    "data = [p1, p2]\n",
    "\n",
    "layout=dict(\n",
    "    title='Explained Variance by Number of Principal Components',\n",
    "    yaxis=dict(\n",
    "        title='Explained Variance',\n",
    "        tickformat=\"%\",\n",
    "        hoverformat = '.1%'),\n",
    "    margin = dict(r = 200),\n",
    "    font=dict(family='Courier New, monospace',\n",
    "                            color='dark gray'),\n",
    "    annotations=list([\n",
    "        dict(x=1.16,\n",
    "             y=1.05,\n",
    "             xref='paper',\n",
    "             yref='paper',\n",
    "             text='Explained Variance',\n",
    "             showarrow=False,\n",
    "        )\n",
    "    ])\n",
    ")\n",
    "\n",
    "fig = dict(data=data, layout=layout)\n",
    "\n",
    "# Plot it\n",
    "py.offline.iplot(fig)"
   ]
  },
  {
   "cell_type": "markdown",
   "metadata": {},
   "source": [
    "# Modelling (Applying ML Models)"
   ]
  },
  {
   "cell_type": "code",
   "execution_count": 156,
   "metadata": {},
   "outputs": [],
   "source": [
    "from sklearn.preprocessing import StandardScaler\n",
    "from sklearn.model_selection import train_test_split\n",
    "from sklearn.model_selection import cross_val_score\n",
    "from sklearn.model_selection import KFold\n",
    "from sklearn.pipeline import make_pipeline\n",
    "from sklearn.linear_model import LinearRegression\n",
    "from sklearn.linear_model import Ridge\n",
    "from sklearn.linear_model import Lasso\n",
    "from sklearn.neighbors import KNeighborsRegressor\n",
    "\n",
    "X = reviews[['review/aroma', 'review/appearance','review/palate', 'review/taste']]\n",
    "y = reviews['review/overall']"
   ]
  },
  {
   "cell_type": "markdown",
   "metadata": {},
   "source": [
    "# Instantiate multiple regression models\n",
    "Linear Regression\n",
    "Lasso ( with L1 penalty)\n",
    "Ridge (with L2 penalty)\n",
    "KNeighbors"
   ]
  },
  {
   "cell_type": "code",
   "execution_count": 157,
   "metadata": {},
   "outputs": [],
   "source": [
    "\n",
    "kfold = KFold(n_splits=10, shuffle=True)\n",
    "#linear = make_pipeline(StandardScaler(), LinearRegression(fit_intercept=True))\n",
    "#lasso = make_pipeline(StandardScaler(), Lasso(alpha=0.01, fit_intercept=True))\n",
    "#ridge = make_pipeline(StandardScaler(), Ridge(fit_intercept=True))\n",
    "#kneighbors = make_pipeline(StandardScaler(), KNeighborsRegressor())"
   ]
  },
  {
   "cell_type": "code",
   "execution_count": 158,
   "metadata": {},
   "outputs": [],
   "source": [
    " #Generate KFolds\n",
    "data_sets = dict()\n",
    "for split in range(10):\n",
    "    _d = dict()\n",
    "    for train_idx, test_idx in kfold.split(X):\n",
    "        _d.update({\n",
    "                'X_train' : X.iloc[train_idx],\n",
    "                'X_test': X.iloc[test_idx],\n",
    "                'y_train': y.iloc[train_idx],\n",
    "                'y_test': y.iloc[test_idx]\n",
    "            })\n",
    "    data_sets.update({\n",
    "            split : _d\n",
    "        })"
   ]
  },
  {
   "cell_type": "markdown",
   "metadata": {},
   "source": [
    "# Define Regression class\n",
    "To wrap scikit-learn methods"
   ]
  },
  {
   "cell_type": "code",
   "execution_count": 159,
   "metadata": {},
   "outputs": [],
   "source": [
    "from sklearn import metrics\n",
    "\n",
    "class Regression:\n",
    "    def __init__(self, regressor):\n",
    "        self.regressor = regressor\n",
    "        \n",
    "    def fit(self, X, y):\n",
    "        self.regressor.fit(X, y) \n",
    "\n",
    "    def predict(self, X, y):\n",
    "        return self.regressor.predict(X)\n",
    "    \n",
    "    def score(self, X, y):\n",
    "        return self.regressor.score(X, y)\n",
    "\n",
    "    def mean_squared_error(self, X, y):\n",
    "        return metrics.mean_squared_error(self.predict(X,y), y)\n",
    "    \n",
    "    def accuracy(self, X,y):\n",
    "        return metrics.r2_score(self.predict(X,y), y)\n"
   ]
  },
  {
   "cell_type": "markdown",
   "metadata": {},
   "source": [
    "# Define some utility functions\n",
    "model_fit: Fits a regression model using one of the pipelines defined above\n",
    "averaged_params: Fit a linear model for each data set generated by KFold splits\n",
    "compute_averages: Compute averages of coefficeints, error and score over KFolds"
   ]
  },
  {
   "cell_type": "code",
   "execution_count": 160,
   "metadata": {},
   "outputs": [],
   "source": [
    "def model_fit(data_set, regressor):\n",
    "    params = dict()\n",
    "    regressor.fit(data_set['X_train'], data_set['y_train'])\n",
    "    neighbors = True if 'neighbors' in regressor.regressor.steps[1][0] else False\n",
    "    params.update({\n",
    "            'coeffs' : [0.0] if neighbors else regressor.regressor.steps[1][1].coef_,\n",
    "            'intercept': [0.0] if neighbors else regressor.regressor.steps[1][1].intercept_,\n",
    "            'mean_sq_error': regressor.mean_squared_error(data_set['X_train'], data_set['y_train']),\n",
    "            'accuracy': regressor.accuracy(data_set['X_test'], data_set['y_test'])\n",
    "        })\n",
    "    #print (params)\n",
    "    return params\n",
    "    \n",
    "def compute_averages(list_of_dicts):\n",
    "    averaged_params = dict()\n",
    "    for set_key in list_of_dicts[0].keys():\n",
    "        _list = [val for obj in list_of_dicts for key, val in obj.items() if key == set_key]\n",
    "        if isinstance(_list[0], dict):\n",
    "            averaged_params[set_key] = compute_averages(_list)\n",
    "        elif isinstance(_list[0], list) or isinstance(_list[0], np.ndarray):\n",
    "            if isinstance(_list[0][0], dict):\n",
    "                sub_list = [[_list[i][j] for i in range(len(_list))] for j in range(len(_list[0]))]\n",
    "                averaged_params[set_key] = [compute_averages(x) for x in sub_list]\n",
    "            else:\n",
    "                averaged_params[set_key] = np.round(np.average(np.array(_list), axis=0), 3)\n",
    "        elif isinstance(_list[0], float) or isinstance(_list[0], int):\n",
    "            averaged_params[set_key] = np.round(np.average(np.array(_list)), 3)\n",
    "        else:\n",
    "            pass\n",
    "    return averaged_params\n",
    "\n",
    "def averaged_params(regressor):\n",
    "    multiple_params = list()\n",
    "    for set_key, value in data_sets.items():\n",
    "        multiple_params.append({\n",
    "                set_key: model_fit(value, regressor)\n",
    "            })\n",
    "    return compute_averages(multiple_params)"
   ]
  },
  {
   "cell_type": "markdown",
   "metadata": {},
   "source": [
    "# Linear Regression"
   ]
  },
  {
   "cell_type": "code",
   "execution_count": 161,
   "metadata": {},
   "outputs": [
    {
     "data": {
      "text/plain": [
       "{0: {'coeffs': array([0.04 , 0.024, 0.161, 0.385]),\n",
       "  'intercept': 3.911,\n",
       "  'mean_sq_error': 0.182,\n",
       "  'accuracy': 0.398}}"
      ]
     },
     "execution_count": 161,
     "metadata": {},
     "output_type": "execute_result"
    }
   ],
   "source": [
    "\n",
    "# Linear Regression Pipeline\n",
    "linear = make_pipeline(StandardScaler(), LinearRegression(fit_intercept=True))\n",
    "regressor = Regression(linear)\n",
    "\n",
    "# Averaged Model Parameters over 5 splits (or 5-fold cross-validation) \n",
    "averaged_params(regressor)"
   ]
  },
  {
   "cell_type": "markdown",
   "metadata": {},
   "source": [
    "# Lasso (Regularization - L1 Penalty)"
   ]
  },
  {
   "cell_type": "code",
   "execution_count": 162,
   "metadata": {},
   "outputs": [
    {
     "name": "stdout",
     "output_type": "stream",
     "text": [
      "Lasso: alpha =  1.0\n",
      "{0: {'coeffs': array([0., 0., 0., 0.]), 'intercept': 3.911, 'mean_sq_error': 0.492, 'accuracy': -5.872018409887627e+29}}\n",
      "**********************\n",
      "Lasso: alpha =  0.1\n",
      "{0: {'coeffs': array([0.   , 0.   , 0.119, 0.356]), 'intercept': 3.911, 'mean_sq_error': 0.195, 'accuracy': -0.004}}\n",
      "**********************\n",
      "Lasso: alpha =  0.01\n",
      "{0: {'coeffs': array([0.037, 0.019, 0.157, 0.383]), 'intercept': 3.911, 'mean_sq_error': 0.183, 'accuracy': 0.372}}\n",
      "**********************\n",
      "Lasso: alpha =  0.001\n",
      "{0: {'coeffs': array([0.04 , 0.023, 0.16 , 0.385]), 'intercept': 3.911, 'mean_sq_error': 0.182, 'accuracy': 0.395}}\n",
      "**********************\n"
     ]
    }
   ],
   "source": [
    "\n",
    "# Lasso Regression Pipeline\n",
    "for alpha in [1.0, 0.1, 0.01, 0.001]:\n",
    "    lasso = make_pipeline(StandardScaler(), Lasso(alpha=alpha, fit_intercept=True))\n",
    "    regressor = Regression(lasso)\n",
    "    print (\"Lasso: alpha = \", alpha)\n",
    "    print (averaged_params(regressor))\n",
    "    print ('**********************')"
   ]
  },
  {
   "cell_type": "markdown",
   "metadata": {},
   "source": [
    "# Ridge (Regularization - L2 Penalty)"
   ]
  },
  {
   "cell_type": "code",
   "execution_count": 163,
   "metadata": {},
   "outputs": [
    {
     "name": "stdout",
     "output_type": "stream",
     "text": [
      "Ridge: alpha =  1.0\n",
      "{0: {'coeffs': array([0.04 , 0.024, 0.161, 0.385]), 'intercept': 3.911, 'mean_sq_error': 0.182, 'accuracy': 0.398}}\n",
      "**********************\n",
      "Ridge: alpha =  0.1\n",
      "{0: {'coeffs': array([0.04 , 0.024, 0.161, 0.385]), 'intercept': 3.911, 'mean_sq_error': 0.182, 'accuracy': 0.398}}\n",
      "**********************\n",
      "Ridge: alpha =  0.01\n",
      "{0: {'coeffs': array([0.04 , 0.024, 0.161, 0.385]), 'intercept': 3.911, 'mean_sq_error': 0.182, 'accuracy': 0.398}}\n",
      "**********************\n",
      "Ridge: alpha =  0.001\n",
      "{0: {'coeffs': array([0.04 , 0.024, 0.161, 0.385]), 'intercept': 3.911, 'mean_sq_error': 0.182, 'accuracy': 0.398}}\n",
      "**********************\n"
     ]
    }
   ],
   "source": [
    "# Ridge Regression Pipeline\n",
    "for alpha in [1.0, 0.1, 0.01, 0.001]:\n",
    "    ridge = make_pipeline(StandardScaler(), Ridge(alpha=alpha, fit_intercept=True))\n",
    "    regressor = Regression(ridge)\n",
    "    print (\"Ridge: alpha = \", alpha)\n",
    "    print (averaged_params(regressor))\n",
    "    print ('**********************')"
   ]
  },
  {
   "cell_type": "markdown",
   "metadata": {},
   "source": [
    "# KNeighbors"
   ]
  },
  {
   "cell_type": "code",
   "execution_count": 164,
   "metadata": {},
   "outputs": [
    {
     "name": "stdout",
     "output_type": "stream",
     "text": [
      "KNeighbors: neighbors =  1\n",
      "{0: {'coeffs': array([0.]), 'intercept': array([0.]), 'mean_sq_error': 0.283, 'accuracy': 0.164}}\n",
      "**********************\n",
      "KNeighbors: neighbors =  2\n",
      "{0: {'coeffs': array([0.]), 'intercept': array([0.]), 'mean_sq_error': 0.227, 'accuracy': 0.225}}\n",
      "**********************\n",
      "KNeighbors: neighbors =  3\n",
      "{0: {'coeffs': array([0.]), 'intercept': array([0.]), 'mean_sq_error': 0.2, 'accuracy': 0.212}}\n",
      "**********************\n",
      "KNeighbors: neighbors =  4\n",
      "{0: {'coeffs': array([0.]), 'intercept': array([0.]), 'mean_sq_error': 0.196, 'accuracy': 0.243}}\n",
      "**********************\n",
      "KNeighbors: neighbors =  5\n",
      "{0: {'coeffs': array([0.]), 'intercept': array([0.]), 'mean_sq_error': 0.19, 'accuracy': 0.238}}\n",
      "**********************\n",
      "KNeighbors: neighbors =  6\n",
      "{0: {'coeffs': array([0.]), 'intercept': array([0.]), 'mean_sq_error': 0.189, 'accuracy': 0.226}}\n",
      "**********************\n",
      "KNeighbors: neighbors =  7\n",
      "{0: {'coeffs': array([0.]), 'intercept': array([0.]), 'mean_sq_error': 0.186, 'accuracy': 0.211}}\n",
      "**********************\n",
      "KNeighbors: neighbors =  8\n",
      "{0: {'coeffs': array([0.]), 'intercept': array([0.]), 'mean_sq_error': 0.185, 'accuracy': 0.225}}\n",
      "**********************\n",
      "KNeighbors: neighbors =  9\n",
      "{0: {'coeffs': array([0.]), 'intercept': array([0.]), 'mean_sq_error': 0.185, 'accuracy': 0.237}}\n",
      "**********************\n"
     ]
    }
   ],
   "source": [
    "# KNeighbors Regression Pipeline\n",
    "for neighbors in range(1,10):\n",
    "    kneighbors = make_pipeline(StandardScaler(), KNeighborsRegressor(n_neighbors=neighbors))\n",
    "    regressor = Regression(kneighbors)\n",
    "    print (\"KNeighbors: neighbors = \", neighbors)\n",
    "    print (averaged_params(regressor))\n",
    "    print ('**********************')"
   ]
  },
  {
   "cell_type": "markdown",
   "metadata": {},
   "source": [
    "# Model Validation Metrics"
   ]
  },
  {
   "cell_type": "markdown",
   "metadata": {},
   "source": [
    " # R Square/Adjusted R Square\n",
    " It’s a statistical measure between 0 and 1 which calculates how similar a regression line is to the data it’s fitted to. If it’s a 1, the model 100% predicts the data variance; if it’s a 0, the model predicts none of the variance."
   ]
  },
  {
   "cell_type": "code",
   "execution_count": 165,
   "metadata": {},
   "outputs": [
    {
     "name": "stdout",
     "output_type": "stream",
     "text": [
      "0.6291058379472492 0.6289119570470647\n"
     ]
    }
   ],
   "source": [
    "import statsmodels.api as sm\n",
    "X_addC = sm.add_constant(X)\n",
    "result = sm.OLS(y, X_addC).fit()\n",
    "print(result.rsquared, result.rsquared_adj)"
   ]
  },
  {
   "cell_type": "code",
   "execution_count": null,
   "metadata": {},
   "outputs": [],
   "source": [
    "#0.6291058379472492 0.6289119570470647"
   ]
  },
  {
   "cell_type": "markdown",
   "metadata": {},
   "source": [
    "# Mean Square Error(MSE)\n",
    "While R Square is a relative measure of how well the model fits dependent variables, Mean Square Error is an absolute measure of the goodness for the fit."
   ]
  },
  {
   "cell_type": "code",
   "execution_count": 176,
   "metadata": {},
   "outputs": [
    {
     "name": "stdout",
     "output_type": "stream",
     "text": [
      "0.17778973682434368\n",
      "0.42165120280196483\n"
     ]
    }
   ],
   "source": [
    "from sklearn.metrics import mean_squared_error\n",
    "import math\n",
    "y_predicted = linear.predict(X_test)\n",
    "print(mean_squared_error(y_test, y_predicted))\n",
    "print(math.sqrt(mean_squared_error(y_test, y_predicted)))"
   ]
  },
  {
   "cell_type": "markdown",
   "metadata": {},
   "source": [
    "# Mean Absolute Error(MAE)\n",
    "Mean Absolute Error(MAE) is similar to Mean Square Error(MSE). However, instead of the sum of square of error in MSE, MAE is taking the sum of absolute value of error.MSE gives larger penalisation to big prediction error by square it while MAE treats all errors the same.\n"
   ]
  },
  {
   "cell_type": "code",
   "execution_count": 177,
   "metadata": {},
   "outputs": [
    {
     "name": "stdout",
     "output_type": "stream",
     "text": [
      "0.31948954961969145\n"
     ]
    }
   ],
   "source": [
    "from sklearn.metrics import mean_absolute_error\n",
    "print(mean_absolute_error(y_test, y_predicted))"
   ]
  },
  {
   "cell_type": "code",
   "execution_count": null,
   "metadata": {},
   "outputs": [],
   "source": []
  }
 ],
 "metadata": {
  "kernelspec": {
   "display_name": "Python 3",
   "language": "python",
   "name": "python3"
  },
  "language_info": {
   "codemirror_mode": {
    "name": "ipython",
    "version": 3
   },
   "file_extension": ".py",
   "mimetype": "text/x-python",
   "name": "python",
   "nbconvert_exporter": "python",
   "pygments_lexer": "ipython3",
   "version": "3.7.4"
  }
 },
 "nbformat": 4,
 "nbformat_minor": 2
}
